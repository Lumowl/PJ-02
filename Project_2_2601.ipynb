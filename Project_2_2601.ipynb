{
 "cells": [
  {
   "cell_type": "markdown",
   "id": "42289889-bd57-434e-9637-d3e354756316",
   "metadata": {
    "id": "42289889-bd57-434e-9637-d3e354756316"
   },
   "source": [
    "<center> <img src = https://raw.githubusercontent.com/AndreyRysistov/DatasetsForPandas/main/hh%20label.jpg alt=\"drawing\" style=\"width:400px;\">"
   ]
  },
  {
   "cell_type": "markdown",
   "id": "829cb75b-f14e-4ba8-9195-7ba929a7d656",
   "metadata": {
    "tags": [],
    "id": "829cb75b-f14e-4ba8-9195-7ba929a7d656"
   },
   "source": [
    "# <center> Проект: Анализ вакансий из HeadHunter\n",
    "   "
   ]
  },
  {
   "cell_type": "code",
   "id": "dccfde33-2452-43fb-a8a5-5c6ebc02a71d",
   "metadata": {
    "id": "dccfde33-2452-43fb-a8a5-5c6ebc02a71d",
    "ExecuteTime": {
     "end_time": "2025-01-26T10:55:06.576388Z",
     "start_time": "2025-01-26T10:55:05.750223Z"
    }
   },
   "source": [
    "import psycopg2\n",
    "import requests\n",
    "import pandas as pd\n",
    "from bs4 import BeautifulSoup\n",
    "from io import StringIO"
   ],
   "outputs": [],
   "execution_count": 1
  },
  {
   "cell_type": "code",
   "source": "",
   "metadata": {
    "id": "oVKH4ehvf8Ay",
    "ExecuteTime": {
     "end_time": "2025-01-26T09:11:42.506165Z",
     "start_time": "2025-01-26T09:11:42.501844Z"
    }
   },
   "id": "oVKH4ehvf8Ay",
   "outputs": [],
   "execution_count": 2
  },
  {
   "cell_type": "code",
   "source": [
    "connection = psycopg2.connect(\n",
    "    dbname=DBNAME,\n",
    "    user=USER,\n",
    "    host=HOST,\n",
    "    password=PASSWORD,\n",
    "    port=PORT\n",
    ")"
   ],
   "metadata": {
    "id": "G4X_q8KBf7SF",
    "ExecuteTime": {
     "end_time": "2025-01-26T09:11:42.636359Z",
     "start_time": "2025-01-26T09:11:42.513652Z"
    }
   },
   "id": "G4X_q8KBf7SF",
   "outputs": [],
   "execution_count": 3
  },
  {
   "cell_type": "markdown",
   "id": "0dc6476b-7a00-44f1-ac93-6e3baed33a29",
   "metadata": {
    "id": "0dc6476b-7a00-44f1-ac93-6e3baed33a29"
   },
   "source": [
    "# Юнит 3. Предварительный анализ данных"
   ]
  },
  {
   "cell_type": "markdown",
   "id": "889782b6-8d1c-410e-8920-e57f27917c64",
   "metadata": {
    "id": "889782b6-8d1c-410e-8920-e57f27917c64"
   },
   "source": [
    "1. Напишите запрос, который посчитает количество вакансий в нашей базе (вакансии находятся в таблице vacancies). "
   ]
  },
  {
   "cell_type": "code",
   "id": "bc39e68e-ed02-4ee2-9235-7258a2f867a8",
   "metadata": {
    "id": "bc39e68e-ed02-4ee2-9235-7258a2f867a8",
    "ExecuteTime": {
     "end_time": "2025-01-19T16:39:38.147546Z",
     "start_time": "2025-01-19T16:39:38.143997Z"
    }
   },
   "source": [
    "# текст запроса\n",
    "query_3_1 = f'''select count(name) as kol_vacanisii\n",
    "                from vacancies\n",
    "            '''"
   ],
   "outputs": [],
   "execution_count": 96
  },
  {
   "cell_type": "code",
   "source": [
    "# результат запроса\n",
    "df = pd.read_sql_query(query_3_1, connection)\n",
    "df"
   ],
   "metadata": {
    "id": "7mAwtsk4hEHY",
    "ExecuteTime": {
     "end_time": "2025-01-19T16:39:38.381504Z",
     "start_time": "2025-01-19T16:39:38.310364Z"
    }
   },
   "id": "7mAwtsk4hEHY",
   "outputs": [
    {
     "name": "stderr",
     "output_type": "stream",
     "text": [
      "C:\\Users\\mkondrashovm.DESKTOP-9A3HGE3\\AppData\\Local\\Temp\\ipykernel_13572\\3241158491.py:2: UserWarning: pandas only supports SQLAlchemy connectable (engine/connection) or database string URI or sqlite3 DBAPI2 connection. Other DBAPI2 objects are not tested. Please consider using SQLAlchemy.\n",
      "  df = pd.read_sql_query(query_3_1, connection)\n"
     ]
    },
    {
     "data": {
      "text/plain": [
       "   kol_vacanisii\n",
       "0          49197"
      ],
      "text/html": [
       "<div>\n",
       "<style scoped>\n",
       "    .dataframe tbody tr th:only-of-type {\n",
       "        vertical-align: middle;\n",
       "    }\n",
       "\n",
       "    .dataframe tbody tr th {\n",
       "        vertical-align: top;\n",
       "    }\n",
       "\n",
       "    .dataframe thead th {\n",
       "        text-align: right;\n",
       "    }\n",
       "</style>\n",
       "<table border=\"1\" class=\"dataframe\">\n",
       "  <thead>\n",
       "    <tr style=\"text-align: right;\">\n",
       "      <th></th>\n",
       "      <th>kol_vacanisii</th>\n",
       "    </tr>\n",
       "  </thead>\n",
       "  <tbody>\n",
       "    <tr>\n",
       "      <th>0</th>\n",
       "      <td>49197</td>\n",
       "    </tr>\n",
       "  </tbody>\n",
       "</table>\n",
       "</div>"
      ]
     },
     "execution_count": 97,
     "metadata": {},
     "output_type": "execute_result"
    }
   ],
   "execution_count": 97
  },
  {
   "cell_type": "markdown",
   "id": "b583485d-1f9e-494e-ada4-80ffff7c53d6",
   "metadata": {
    "id": "b583485d-1f9e-494e-ada4-80ffff7c53d6"
   },
   "source": [
    "2. Напишите запрос, который посчитает количество работодателей (таблица employers). "
   ]
  },
  {
   "cell_type": "code",
   "id": "5408c52c-3407-4a63-b25b-1aafa2322d28",
   "metadata": {
    "id": "5408c52c-3407-4a63-b25b-1aafa2322d28",
    "ExecuteTime": {
     "end_time": "2025-01-19T16:39:38.435267Z",
     "start_time": "2025-01-19T16:39:38.430331Z"
    }
   },
   "source": [
    "# текст запроса\n",
    "query_3_2 = f'''select count(id) as kol_rabotadatel\n",
    "                from employers\n",
    "            '''"
   ],
   "outputs": [],
   "execution_count": 98
  },
  {
   "cell_type": "code",
   "source": [
    "# результат запроса\n",
    "df = pd.read_sql_query(query_3_2, connection)\n",
    "df"
   ],
   "metadata": {
    "id": "jVL4eshKhdqc",
    "ExecuteTime": {
     "end_time": "2025-01-19T16:39:38.576199Z",
     "start_time": "2025-01-19T16:39:38.537690Z"
    }
   },
   "id": "jVL4eshKhdqc",
   "outputs": [
    {
     "name": "stderr",
     "output_type": "stream",
     "text": [
      "C:\\Users\\mkondrashovm.DESKTOP-9A3HGE3\\AppData\\Local\\Temp\\ipykernel_13572\\1374563366.py:2: UserWarning: pandas only supports SQLAlchemy connectable (engine/connection) or database string URI or sqlite3 DBAPI2 connection. Other DBAPI2 objects are not tested. Please consider using SQLAlchemy.\n",
      "  df = pd.read_sql_query(query_3_2, connection)\n"
     ]
    },
    {
     "data": {
      "text/plain": [
       "   kol_rabotadatel\n",
       "0            23501"
      ],
      "text/html": [
       "<div>\n",
       "<style scoped>\n",
       "    .dataframe tbody tr th:only-of-type {\n",
       "        vertical-align: middle;\n",
       "    }\n",
       "\n",
       "    .dataframe tbody tr th {\n",
       "        vertical-align: top;\n",
       "    }\n",
       "\n",
       "    .dataframe thead th {\n",
       "        text-align: right;\n",
       "    }\n",
       "</style>\n",
       "<table border=\"1\" class=\"dataframe\">\n",
       "  <thead>\n",
       "    <tr style=\"text-align: right;\">\n",
       "      <th></th>\n",
       "      <th>kol_rabotadatel</th>\n",
       "    </tr>\n",
       "  </thead>\n",
       "  <tbody>\n",
       "    <tr>\n",
       "      <th>0</th>\n",
       "      <td>23501</td>\n",
       "    </tr>\n",
       "  </tbody>\n",
       "</table>\n",
       "</div>"
      ]
     },
     "execution_count": 99,
     "metadata": {},
     "output_type": "execute_result"
    }
   ],
   "execution_count": 99
  },
  {
   "cell_type": "markdown",
   "id": "a2bfff1f-c975-4bf6-84be-2185d79dcb76",
   "metadata": {
    "id": "a2bfff1f-c975-4bf6-84be-2185d79dcb76"
   },
   "source": [
    "3. Посчитате с помощью запроса количество регионов (таблица areas)."
   ]
  },
  {
   "cell_type": "code",
   "source": [
    "# текст запроса\n",
    "query_3_3 = f'''select count(id) as kol_region\n",
    "                from areas\n",
    "            '''"
   ],
   "metadata": {
    "id": "1m8QJwBYhey6",
    "ExecuteTime": {
     "end_time": "2025-01-19T16:39:38.706037Z",
     "start_time": "2025-01-19T16:39:38.701269Z"
    }
   },
   "id": "1m8QJwBYhey6",
   "outputs": [],
   "execution_count": 100
  },
  {
   "cell_type": "code",
   "source": [
    "# результат запроса\n",
    "df = pd.read_sql_query(query_3_3, connection)\n",
    "df"
   ],
   "metadata": {
    "id": "EZsn9tlfhe7f",
    "ExecuteTime": {
     "end_time": "2025-01-19T16:39:38.821320Z",
     "start_time": "2025-01-19T16:39:38.784355Z"
    }
   },
   "id": "EZsn9tlfhe7f",
   "outputs": [
    {
     "name": "stderr",
     "output_type": "stream",
     "text": [
      "C:\\Users\\mkondrashovm.DESKTOP-9A3HGE3\\AppData\\Local\\Temp\\ipykernel_13572\\339661163.py:2: UserWarning: pandas only supports SQLAlchemy connectable (engine/connection) or database string URI or sqlite3 DBAPI2 connection. Other DBAPI2 objects are not tested. Please consider using SQLAlchemy.\n",
      "  df = pd.read_sql_query(query_3_3, connection)\n"
     ]
    },
    {
     "data": {
      "text/plain": [
       "   kol_region\n",
       "0        1362"
      ],
      "text/html": [
       "<div>\n",
       "<style scoped>\n",
       "    .dataframe tbody tr th:only-of-type {\n",
       "        vertical-align: middle;\n",
       "    }\n",
       "\n",
       "    .dataframe tbody tr th {\n",
       "        vertical-align: top;\n",
       "    }\n",
       "\n",
       "    .dataframe thead th {\n",
       "        text-align: right;\n",
       "    }\n",
       "</style>\n",
       "<table border=\"1\" class=\"dataframe\">\n",
       "  <thead>\n",
       "    <tr style=\"text-align: right;\">\n",
       "      <th></th>\n",
       "      <th>kol_region</th>\n",
       "    </tr>\n",
       "  </thead>\n",
       "  <tbody>\n",
       "    <tr>\n",
       "      <th>0</th>\n",
       "      <td>1362</td>\n",
       "    </tr>\n",
       "  </tbody>\n",
       "</table>\n",
       "</div>"
      ]
     },
     "execution_count": 101,
     "metadata": {},
     "output_type": "execute_result"
    }
   ],
   "execution_count": 101
  },
  {
   "cell_type": "markdown",
   "id": "41bb59f3-53cc-4a67-a5bc-bedf573955e4",
   "metadata": {
    "id": "41bb59f3-53cc-4a67-a5bc-bedf573955e4"
   },
   "source": [
    "4. Посчитате с помощью запроса количество сфер деятельности в базе (таблица industries)."
   ]
  },
  {
   "cell_type": "code",
   "id": "d286cf4c-707b-4cd2-9190-7ab3587d04a1",
   "metadata": {
    "id": "d286cf4c-707b-4cd2-9190-7ab3587d04a1",
    "ExecuteTime": {
     "end_time": "2025-01-19T16:39:38.918671Z",
     "start_time": "2025-01-19T16:39:38.912949Z"
    }
   },
   "source": [
    "# текст запроса\n",
    "query_3_4 = f'''select count(id) as kol_sferdeyatel\n",
    "                from industries\n",
    "\n",
    "            '''"
   ],
   "outputs": [],
   "execution_count": 102
  },
  {
   "cell_type": "code",
   "source": [
    "# результат запроса\n",
    "df = pd.read_sql_query(query_3_4, connection)\n",
    "df"
   ],
   "metadata": {
    "id": "JYAaoZ4qhfzW",
    "ExecuteTime": {
     "end_time": "2025-01-19T16:39:39.046095Z",
     "start_time": "2025-01-19T16:39:39.009508Z"
    }
   },
   "id": "JYAaoZ4qhfzW",
   "outputs": [
    {
     "name": "stderr",
     "output_type": "stream",
     "text": [
      "C:\\Users\\mkondrashovm.DESKTOP-9A3HGE3\\AppData\\Local\\Temp\\ipykernel_13572\\1211709877.py:2: UserWarning: pandas only supports SQLAlchemy connectable (engine/connection) or database string URI or sqlite3 DBAPI2 connection. Other DBAPI2 objects are not tested. Please consider using SQLAlchemy.\n",
      "  df = pd.read_sql_query(query_3_4, connection)\n"
     ]
    },
    {
     "data": {
      "text/plain": [
       "   kol_sferdeyatel\n",
       "0              294"
      ],
      "text/html": [
       "<div>\n",
       "<style scoped>\n",
       "    .dataframe tbody tr th:only-of-type {\n",
       "        vertical-align: middle;\n",
       "    }\n",
       "\n",
       "    .dataframe tbody tr th {\n",
       "        vertical-align: top;\n",
       "    }\n",
       "\n",
       "    .dataframe thead th {\n",
       "        text-align: right;\n",
       "    }\n",
       "</style>\n",
       "<table border=\"1\" class=\"dataframe\">\n",
       "  <thead>\n",
       "    <tr style=\"text-align: right;\">\n",
       "      <th></th>\n",
       "      <th>kol_sferdeyatel</th>\n",
       "    </tr>\n",
       "  </thead>\n",
       "  <tbody>\n",
       "    <tr>\n",
       "      <th>0</th>\n",
       "      <td>294</td>\n",
       "    </tr>\n",
       "  </tbody>\n",
       "</table>\n",
       "</div>"
      ]
     },
     "execution_count": 103,
     "metadata": {},
     "output_type": "execute_result"
    }
   ],
   "execution_count": 103
  },
  {
   "cell_type": "markdown",
   "id": "9a8a2181-6914-448b-85f1-38f5f18b8a93",
   "metadata": {
    "id": "9a8a2181-6914-448b-85f1-38f5f18b8a93"
   },
   "source": [
    "***"
   ]
  },
  {
   "cell_type": "code",
   "id": "be4e9bd3-a4db-4a20-82fb-6b02fc2957e0",
   "metadata": {
    "id": "be4e9bd3-a4db-4a20-82fb-6b02fc2957e0",
    "ExecuteTime": {
     "end_time": "2025-01-19T16:39:39.244498Z",
     "start_time": "2025-01-19T16:39:39.240429Z"
    }
   },
   "source": "# выводы по предварительному анализу данных\n",
   "outputs": [],
   "execution_count": 104
  },
  {
   "metadata": {},
   "cell_type": "markdown",
   "source": [
    "# Выводы по предварительному анализу данных.\n",
    "- В среднем на одного работодателя приходится 2 вакансии.\n",
    "- Кол-во регионов в которых расположены работодатели почтив 2 раза меньше чем представлено в соответствующей таблице."
   ],
   "id": "15ed997130e795c0"
  },
  {
   "cell_type": "markdown",
   "id": "8d62a9f3-f64e-4fe7-bdac-c4dffa16155e",
   "metadata": {
    "id": "8d62a9f3-f64e-4fe7-bdac-c4dffa16155e"
   },
   "source": [
    "# Юнит 4. Детальный анализ вакансий"
   ]
  },
  {
   "cell_type": "markdown",
   "id": "93053d3d-b284-481a-9cf7-012d7014c0e0",
   "metadata": {
    "id": "93053d3d-b284-481a-9cf7-012d7014c0e0"
   },
   "source": [
    "1. Напишите запрос, который позволит узнать, сколько (cnt) вакансий в каждом регионе (area).\n",
    "Отсортируйте по количеству вакансий в порядке убывания."
   ]
  },
  {
   "cell_type": "code",
   "id": "3f069da6-fdc9-4ae7-b514-fafe2675efd3",
   "metadata": {
    "id": "3f069da6-fdc9-4ae7-b514-fafe2675efd3",
    "ExecuteTime": {
     "end_time": "2025-01-19T16:39:39.358118Z",
     "start_time": "2025-01-19T16:39:39.353197Z"
    }
   },
   "source": [
    "# текст запроса\n",
    "query_4_1 = f'''select count(v.id) as cnt, ar.name as name\n",
    "                from vacancies as v\n",
    "                join areas as ar on v.area_id = ar.id\n",
    "                group by ar.name\n",
    "                order by cnt desc\n",
    "            '''"
   ],
   "outputs": [],
   "execution_count": 105
  },
  {
   "cell_type": "code",
   "source": [
    "# результат запроса\n",
    "df = pd.read_sql_query(query_4_1, connection)\n",
    "df"
   ],
   "metadata": {
    "id": "P7QL86hrjhRJ",
    "ExecuteTime": {
     "end_time": "2025-01-19T16:39:39.531925Z",
     "start_time": "2025-01-19T16:39:39.445949Z"
    }
   },
   "id": "P7QL86hrjhRJ",
   "outputs": [
    {
     "name": "stderr",
     "output_type": "stream",
     "text": [
      "C:\\Users\\mkondrashovm.DESKTOP-9A3HGE3\\AppData\\Local\\Temp\\ipykernel_13572\\317581882.py:2: UserWarning: pandas only supports SQLAlchemy connectable (engine/connection) or database string URI or sqlite3 DBAPI2 connection. Other DBAPI2 objects are not tested. Please consider using SQLAlchemy.\n",
      "  df = pd.read_sql_query(query_4_1, connection)\n"
     ]
    },
    {
     "data": {
      "text/plain": [
       "      cnt             name\n",
       "0    5333           Москва\n",
       "1    2851  Санкт-Петербург\n",
       "2    2112            Минск\n",
       "3    2006      Новосибирск\n",
       "4    1892           Алматы\n",
       "..    ...              ...\n",
       "764     1       Тарко-Сале\n",
       "765     1    Новоаннинский\n",
       "766     1            Бирск\n",
       "767     1           Сасово\n",
       "768     1             Анна\n",
       "\n",
       "[769 rows x 2 columns]"
      ],
      "text/html": [
       "<div>\n",
       "<style scoped>\n",
       "    .dataframe tbody tr th:only-of-type {\n",
       "        vertical-align: middle;\n",
       "    }\n",
       "\n",
       "    .dataframe tbody tr th {\n",
       "        vertical-align: top;\n",
       "    }\n",
       "\n",
       "    .dataframe thead th {\n",
       "        text-align: right;\n",
       "    }\n",
       "</style>\n",
       "<table border=\"1\" class=\"dataframe\">\n",
       "  <thead>\n",
       "    <tr style=\"text-align: right;\">\n",
       "      <th></th>\n",
       "      <th>cnt</th>\n",
       "      <th>name</th>\n",
       "    </tr>\n",
       "  </thead>\n",
       "  <tbody>\n",
       "    <tr>\n",
       "      <th>0</th>\n",
       "      <td>5333</td>\n",
       "      <td>Москва</td>\n",
       "    </tr>\n",
       "    <tr>\n",
       "      <th>1</th>\n",
       "      <td>2851</td>\n",
       "      <td>Санкт-Петербург</td>\n",
       "    </tr>\n",
       "    <tr>\n",
       "      <th>2</th>\n",
       "      <td>2112</td>\n",
       "      <td>Минск</td>\n",
       "    </tr>\n",
       "    <tr>\n",
       "      <th>3</th>\n",
       "      <td>2006</td>\n",
       "      <td>Новосибирск</td>\n",
       "    </tr>\n",
       "    <tr>\n",
       "      <th>4</th>\n",
       "      <td>1892</td>\n",
       "      <td>Алматы</td>\n",
       "    </tr>\n",
       "    <tr>\n",
       "      <th>...</th>\n",
       "      <td>...</td>\n",
       "      <td>...</td>\n",
       "    </tr>\n",
       "    <tr>\n",
       "      <th>764</th>\n",
       "      <td>1</td>\n",
       "      <td>Тарко-Сале</td>\n",
       "    </tr>\n",
       "    <tr>\n",
       "      <th>765</th>\n",
       "      <td>1</td>\n",
       "      <td>Новоаннинский</td>\n",
       "    </tr>\n",
       "    <tr>\n",
       "      <th>766</th>\n",
       "      <td>1</td>\n",
       "      <td>Бирск</td>\n",
       "    </tr>\n",
       "    <tr>\n",
       "      <th>767</th>\n",
       "      <td>1</td>\n",
       "      <td>Сасово</td>\n",
       "    </tr>\n",
       "    <tr>\n",
       "      <th>768</th>\n",
       "      <td>1</td>\n",
       "      <td>Анна</td>\n",
       "    </tr>\n",
       "  </tbody>\n",
       "</table>\n",
       "<p>769 rows × 2 columns</p>\n",
       "</div>"
      ]
     },
     "execution_count": 106,
     "metadata": {},
     "output_type": "execute_result"
    }
   ],
   "execution_count": 106
  },
  {
   "cell_type": "markdown",
   "id": "4266f0b6-1646-492a-88b4-2f6a46502135",
   "metadata": {
    "id": "4266f0b6-1646-492a-88b4-2f6a46502135"
   },
   "source": [
    "2. Напишите запрос, чтобы определить у какого количества вакансий заполнено хотя бы одно из двух полей с зарплатой."
   ]
  },
  {
   "cell_type": "code",
   "id": "0c44b350-72eb-4d65-8b54-a1fc449ba9fd",
   "metadata": {
    "id": "0c44b350-72eb-4d65-8b54-a1fc449ba9fd",
    "ExecuteTime": {
     "end_time": "2025-01-19T16:39:39.747136Z",
     "start_time": "2025-01-19T16:39:39.742849Z"
    }
   },
   "source": [
    "# текст запроса\n",
    "query_4_2 = f'''select count(v.id) as cnt\n",
    "                from vacancies as v\n",
    "                where v.salary_from IS NOT NULL OR v.salary_to IS NOT NULL\n",
    "            '''"
   ],
   "outputs": [],
   "execution_count": 107
  },
  {
   "cell_type": "code",
   "source": [
    "# результат запроса\n",
    "df = pd.read_sql_query(query_4_2, connection)\n",
    "df"
   ],
   "metadata": {
    "id": "rhvwaMDkoWTi",
    "ExecuteTime": {
     "end_time": "2025-01-19T16:39:39.856041Z",
     "start_time": "2025-01-19T16:39:39.807243Z"
    }
   },
   "id": "rhvwaMDkoWTi",
   "outputs": [
    {
     "name": "stderr",
     "output_type": "stream",
     "text": [
      "C:\\Users\\mkondrashovm.DESKTOP-9A3HGE3\\AppData\\Local\\Temp\\ipykernel_13572\\3981930701.py:2: UserWarning: pandas only supports SQLAlchemy connectable (engine/connection) or database string URI or sqlite3 DBAPI2 connection. Other DBAPI2 objects are not tested. Please consider using SQLAlchemy.\n",
      "  df = pd.read_sql_query(query_4_2, connection)\n"
     ]
    },
    {
     "data": {
      "text/plain": [
       "     cnt\n",
       "0  24073"
      ],
      "text/html": [
       "<div>\n",
       "<style scoped>\n",
       "    .dataframe tbody tr th:only-of-type {\n",
       "        vertical-align: middle;\n",
       "    }\n",
       "\n",
       "    .dataframe tbody tr th {\n",
       "        vertical-align: top;\n",
       "    }\n",
       "\n",
       "    .dataframe thead th {\n",
       "        text-align: right;\n",
       "    }\n",
       "</style>\n",
       "<table border=\"1\" class=\"dataframe\">\n",
       "  <thead>\n",
       "    <tr style=\"text-align: right;\">\n",
       "      <th></th>\n",
       "      <th>cnt</th>\n",
       "    </tr>\n",
       "  </thead>\n",
       "  <tbody>\n",
       "    <tr>\n",
       "      <th>0</th>\n",
       "      <td>24073</td>\n",
       "    </tr>\n",
       "  </tbody>\n",
       "</table>\n",
       "</div>"
      ]
     },
     "execution_count": 108,
     "metadata": {},
     "output_type": "execute_result"
    }
   ],
   "execution_count": 108
  },
  {
   "cell_type": "markdown",
   "id": "635c4d5d-f323-4c66-b428-50a088120aa0",
   "metadata": {
    "id": "635c4d5d-f323-4c66-b428-50a088120aa0"
   },
   "source": [
    "3. Найдите средние значения для нижней и верхней границы зарплатной вилки. Округлите значения до целого."
   ]
  },
  {
   "cell_type": "code",
   "id": "603cdbe4-0ec3-4106-8eaf-c73fcdd29165",
   "metadata": {
    "id": "603cdbe4-0ec3-4106-8eaf-c73fcdd29165",
    "ExecuteTime": {
     "end_time": "2025-01-19T16:39:39.967447Z",
     "start_time": "2025-01-19T16:39:39.962603Z"
    }
   },
   "source": [
    "# текст запроса\n",
    "query_4_3 = f'''select round(avg(salary_from)) as avg_salary_from,\n",
    "                        round(avg(salary_to)) as avg_salary_to\n",
    "                from vacancies\n",
    "            '''"
   ],
   "outputs": [],
   "execution_count": 109
  },
  {
   "cell_type": "code",
   "source": [
    "# результат запроса\n",
    "df = pd.read_sql_query(query_4_3, connection)\n",
    "df"
   ],
   "metadata": {
    "id": "pswpAb66ovZZ",
    "ExecuteTime": {
     "end_time": "2025-01-19T16:39:40.089266Z",
     "start_time": "2025-01-19T16:39:40.042525Z"
    }
   },
   "id": "pswpAb66ovZZ",
   "outputs": [
    {
     "name": "stderr",
     "output_type": "stream",
     "text": [
      "C:\\Users\\mkondrashovm.DESKTOP-9A3HGE3\\AppData\\Local\\Temp\\ipykernel_13572\\844822074.py:2: UserWarning: pandas only supports SQLAlchemy connectable (engine/connection) or database string URI or sqlite3 DBAPI2 connection. Other DBAPI2 objects are not tested. Please consider using SQLAlchemy.\n",
      "  df = pd.read_sql_query(query_4_3, connection)\n"
     ]
    },
    {
     "data": {
      "text/plain": [
       "   avg_salary_from  avg_salary_to\n",
       "0          71065.0       110537.0"
      ],
      "text/html": [
       "<div>\n",
       "<style scoped>\n",
       "    .dataframe tbody tr th:only-of-type {\n",
       "        vertical-align: middle;\n",
       "    }\n",
       "\n",
       "    .dataframe tbody tr th {\n",
       "        vertical-align: top;\n",
       "    }\n",
       "\n",
       "    .dataframe thead th {\n",
       "        text-align: right;\n",
       "    }\n",
       "</style>\n",
       "<table border=\"1\" class=\"dataframe\">\n",
       "  <thead>\n",
       "    <tr style=\"text-align: right;\">\n",
       "      <th></th>\n",
       "      <th>avg_salary_from</th>\n",
       "      <th>avg_salary_to</th>\n",
       "    </tr>\n",
       "  </thead>\n",
       "  <tbody>\n",
       "    <tr>\n",
       "      <th>0</th>\n",
       "      <td>71065.0</td>\n",
       "      <td>110537.0</td>\n",
       "    </tr>\n",
       "  </tbody>\n",
       "</table>\n",
       "</div>"
      ]
     },
     "execution_count": 110,
     "metadata": {},
     "output_type": "execute_result"
    }
   ],
   "execution_count": 110
  },
  {
   "cell_type": "markdown",
   "id": "f3fdaec9-5fd3-4260-9cf5-1d7406b628a5",
   "metadata": {
    "id": "f3fdaec9-5fd3-4260-9cf5-1d7406b628a5"
   },
   "source": [
    "4. Напишите запрос, который выведет количество вакансий для каждого сочетания типа рабочего графика (schedule) и типа трудоустройства (employment), используемого в вакансиях. Результат отсортируйте по убыванию количества.\n"
   ]
  },
  {
   "cell_type": "code",
   "id": "1ea710ec-871b-431e-9462-c7d0fd87011b",
   "metadata": {
    "id": "1ea710ec-871b-431e-9462-c7d0fd87011b",
    "ExecuteTime": {
     "end_time": "2025-01-19T16:39:40.185603Z",
     "start_time": "2025-01-19T16:39:40.180725Z"
    }
   },
   "source": [
    "# текст запроса\n",
    "query_4_4 = f'''select schedule, employment, count(id) as cnt\n",
    "                from vacancies\n",
    "                group by schedule, employment\n",
    "                order by cnt desc\n",
    "            '''"
   ],
   "outputs": [],
   "execution_count": 111
  },
  {
   "cell_type": "code",
   "source": [
    "# результат запроса\n",
    "df = pd.read_sql_query(query_4_4, connection)\n",
    "df\n"
   ],
   "metadata": {
    "id": "lGUVqavdo4JQ",
    "ExecuteTime": {
     "end_time": "2025-01-19T16:39:40.327405Z",
     "start_time": "2025-01-19T16:39:40.272662Z"
    }
   },
   "id": "lGUVqavdo4JQ",
   "outputs": [
    {
     "name": "stderr",
     "output_type": "stream",
     "text": [
      "C:\\Users\\mkondrashovm.DESKTOP-9A3HGE3\\AppData\\Local\\Temp\\ipykernel_13572\\3686553058.py:2: UserWarning: pandas only supports SQLAlchemy connectable (engine/connection) or database string URI or sqlite3 DBAPI2 connection. Other DBAPI2 objects are not tested. Please consider using SQLAlchemy.\n",
      "  df = pd.read_sql_query(query_4_4, connection)\n"
     ]
    },
    {
     "data": {
      "text/plain": [
       "            schedule           employment    cnt\n",
       "0        Полный день     Полная занятость  35367\n",
       "1   Удаленная работа     Полная занятость   7802\n",
       "2      Гибкий график     Полная занятость   1593\n",
       "3   Удаленная работа  Частичная занятость   1312\n",
       "4     Сменный график     Полная занятость    940\n",
       "5        Полный день           Стажировка    569\n",
       "6     Вахтовый метод     Полная занятость    367\n",
       "7        Полный день  Частичная занятость    347\n",
       "8      Гибкий график  Частичная занятость    312\n",
       "9        Полный день     Проектная работа    141\n",
       "10  Удаленная работа     Проектная работа    133\n",
       "11     Гибкий график           Стажировка    116\n",
       "12    Сменный график  Частичная занятость    101\n",
       "13  Удаленная работа           Стажировка     64\n",
       "14     Гибкий график     Проектная работа     18\n",
       "15    Сменный график           Стажировка     12\n",
       "16    Вахтовый метод     Проектная работа      2\n",
       "17    Сменный график     Проектная работа      1"
      ],
      "text/html": [
       "<div>\n",
       "<style scoped>\n",
       "    .dataframe tbody tr th:only-of-type {\n",
       "        vertical-align: middle;\n",
       "    }\n",
       "\n",
       "    .dataframe tbody tr th {\n",
       "        vertical-align: top;\n",
       "    }\n",
       "\n",
       "    .dataframe thead th {\n",
       "        text-align: right;\n",
       "    }\n",
       "</style>\n",
       "<table border=\"1\" class=\"dataframe\">\n",
       "  <thead>\n",
       "    <tr style=\"text-align: right;\">\n",
       "      <th></th>\n",
       "      <th>schedule</th>\n",
       "      <th>employment</th>\n",
       "      <th>cnt</th>\n",
       "    </tr>\n",
       "  </thead>\n",
       "  <tbody>\n",
       "    <tr>\n",
       "      <th>0</th>\n",
       "      <td>Полный день</td>\n",
       "      <td>Полная занятость</td>\n",
       "      <td>35367</td>\n",
       "    </tr>\n",
       "    <tr>\n",
       "      <th>1</th>\n",
       "      <td>Удаленная работа</td>\n",
       "      <td>Полная занятость</td>\n",
       "      <td>7802</td>\n",
       "    </tr>\n",
       "    <tr>\n",
       "      <th>2</th>\n",
       "      <td>Гибкий график</td>\n",
       "      <td>Полная занятость</td>\n",
       "      <td>1593</td>\n",
       "    </tr>\n",
       "    <tr>\n",
       "      <th>3</th>\n",
       "      <td>Удаленная работа</td>\n",
       "      <td>Частичная занятость</td>\n",
       "      <td>1312</td>\n",
       "    </tr>\n",
       "    <tr>\n",
       "      <th>4</th>\n",
       "      <td>Сменный график</td>\n",
       "      <td>Полная занятость</td>\n",
       "      <td>940</td>\n",
       "    </tr>\n",
       "    <tr>\n",
       "      <th>5</th>\n",
       "      <td>Полный день</td>\n",
       "      <td>Стажировка</td>\n",
       "      <td>569</td>\n",
       "    </tr>\n",
       "    <tr>\n",
       "      <th>6</th>\n",
       "      <td>Вахтовый метод</td>\n",
       "      <td>Полная занятость</td>\n",
       "      <td>367</td>\n",
       "    </tr>\n",
       "    <tr>\n",
       "      <th>7</th>\n",
       "      <td>Полный день</td>\n",
       "      <td>Частичная занятость</td>\n",
       "      <td>347</td>\n",
       "    </tr>\n",
       "    <tr>\n",
       "      <th>8</th>\n",
       "      <td>Гибкий график</td>\n",
       "      <td>Частичная занятость</td>\n",
       "      <td>312</td>\n",
       "    </tr>\n",
       "    <tr>\n",
       "      <th>9</th>\n",
       "      <td>Полный день</td>\n",
       "      <td>Проектная работа</td>\n",
       "      <td>141</td>\n",
       "    </tr>\n",
       "    <tr>\n",
       "      <th>10</th>\n",
       "      <td>Удаленная работа</td>\n",
       "      <td>Проектная работа</td>\n",
       "      <td>133</td>\n",
       "    </tr>\n",
       "    <tr>\n",
       "      <th>11</th>\n",
       "      <td>Гибкий график</td>\n",
       "      <td>Стажировка</td>\n",
       "      <td>116</td>\n",
       "    </tr>\n",
       "    <tr>\n",
       "      <th>12</th>\n",
       "      <td>Сменный график</td>\n",
       "      <td>Частичная занятость</td>\n",
       "      <td>101</td>\n",
       "    </tr>\n",
       "    <tr>\n",
       "      <th>13</th>\n",
       "      <td>Удаленная работа</td>\n",
       "      <td>Стажировка</td>\n",
       "      <td>64</td>\n",
       "    </tr>\n",
       "    <tr>\n",
       "      <th>14</th>\n",
       "      <td>Гибкий график</td>\n",
       "      <td>Проектная работа</td>\n",
       "      <td>18</td>\n",
       "    </tr>\n",
       "    <tr>\n",
       "      <th>15</th>\n",
       "      <td>Сменный график</td>\n",
       "      <td>Стажировка</td>\n",
       "      <td>12</td>\n",
       "    </tr>\n",
       "    <tr>\n",
       "      <th>16</th>\n",
       "      <td>Вахтовый метод</td>\n",
       "      <td>Проектная работа</td>\n",
       "      <td>2</td>\n",
       "    </tr>\n",
       "    <tr>\n",
       "      <th>17</th>\n",
       "      <td>Сменный график</td>\n",
       "      <td>Проектная работа</td>\n",
       "      <td>1</td>\n",
       "    </tr>\n",
       "  </tbody>\n",
       "</table>\n",
       "</div>"
      ]
     },
     "execution_count": 112,
     "metadata": {},
     "output_type": "execute_result"
    }
   ],
   "execution_count": 112
  },
  {
   "cell_type": "markdown",
   "id": "0136ffee-0ead-4a6b-b608-61d1c753a438",
   "metadata": {
    "id": "0136ffee-0ead-4a6b-b608-61d1c753a438"
   },
   "source": [
    "5. Напишите запрос, выводящий значения поля Требуемый опыт работы (experience) в порядке возрастания количества вакансий, в которых указан данный вариант опыта. "
   ]
  },
  {
   "cell_type": "code",
   "id": "5b3a8e79-f7ab-4008-b767-12aea3a205ea",
   "metadata": {
    "id": "5b3a8e79-f7ab-4008-b767-12aea3a205ea",
    "ExecuteTime": {
     "end_time": "2025-01-19T16:39:40.402469Z",
     "start_time": "2025-01-19T16:39:40.398318Z"
    }
   },
   "source": [
    "# текст запроса\n",
    "query_4_5 = f'''select experience\n",
    "                from vacancies\n",
    "                where experience is not null\n",
    "                group by experience\n",
    "                order by count(id)\n",
    "            '''"
   ],
   "outputs": [],
   "execution_count": 113
  },
  {
   "cell_type": "code",
   "source": [
    "# результат запроса\n",
    "df = pd.read_sql_query(query_4_5, connection)\n",
    "df"
   ],
   "metadata": {
    "id": "3Is64Y-hpDpq",
    "ExecuteTime": {
     "end_time": "2025-01-19T16:39:40.543174Z",
     "start_time": "2025-01-19T16:39:40.489198Z"
    }
   },
   "id": "3Is64Y-hpDpq",
   "outputs": [
    {
     "name": "stderr",
     "output_type": "stream",
     "text": [
      "C:\\Users\\mkondrashovm.DESKTOP-9A3HGE3\\AppData\\Local\\Temp\\ipykernel_13572\\775316018.py:2: UserWarning: pandas only supports SQLAlchemy connectable (engine/connection) or database string URI or sqlite3 DBAPI2 connection. Other DBAPI2 objects are not tested. Please consider using SQLAlchemy.\n",
      "  df = pd.read_sql_query(query_4_5, connection)\n"
     ]
    },
    {
     "data": {
      "text/plain": [
       "           experience\n",
       "0         Более 6 лет\n",
       "1           Нет опыта\n",
       "2       От 3 до 6 лет\n",
       "3  От 1 года до 3 лет"
      ],
      "text/html": [
       "<div>\n",
       "<style scoped>\n",
       "    .dataframe tbody tr th:only-of-type {\n",
       "        vertical-align: middle;\n",
       "    }\n",
       "\n",
       "    .dataframe tbody tr th {\n",
       "        vertical-align: top;\n",
       "    }\n",
       "\n",
       "    .dataframe thead th {\n",
       "        text-align: right;\n",
       "    }\n",
       "</style>\n",
       "<table border=\"1\" class=\"dataframe\">\n",
       "  <thead>\n",
       "    <tr style=\"text-align: right;\">\n",
       "      <th></th>\n",
       "      <th>experience</th>\n",
       "    </tr>\n",
       "  </thead>\n",
       "  <tbody>\n",
       "    <tr>\n",
       "      <th>0</th>\n",
       "      <td>Более 6 лет</td>\n",
       "    </tr>\n",
       "    <tr>\n",
       "      <th>1</th>\n",
       "      <td>Нет опыта</td>\n",
       "    </tr>\n",
       "    <tr>\n",
       "      <th>2</th>\n",
       "      <td>От 3 до 6 лет</td>\n",
       "    </tr>\n",
       "    <tr>\n",
       "      <th>3</th>\n",
       "      <td>От 1 года до 3 лет</td>\n",
       "    </tr>\n",
       "  </tbody>\n",
       "</table>\n",
       "</div>"
      ]
     },
     "execution_count": 114,
     "metadata": {},
     "output_type": "execute_result"
    }
   ],
   "execution_count": 114
  },
  {
   "cell_type": "markdown",
   "source": [
    "***"
   ],
   "metadata": {
    "id": "oq2b7n1QpIka"
   },
   "id": "oq2b7n1QpIka"
  },
  {
   "cell_type": "code",
   "id": "e91f87ed-e25c-4f96-9f92-b642e8c0b4fa",
   "metadata": {
    "id": "e91f87ed-e25c-4f96-9f92-b642e8c0b4fa",
    "ExecuteTime": {
     "end_time": "2025-01-19T16:39:40.623981Z",
     "start_time": "2025-01-19T16:39:40.619702Z"
    }
   },
   "source": [
    "# выводы по детальному анализу вакансий"
   ],
   "outputs": [],
   "execution_count": 115
  },
  {
   "metadata": {},
   "cell_type": "markdown",
   "source": [
    "- Большая часть работодателей зарегистрирована в Москве и Санкт-Петербурге\n",
    "- Основная часть вакансий с графиком полный день и полная занятость\n",
    "- Работодатели ищут опытных сотрудников с большим опытом работы"
   ],
   "id": "3a120836a7642ce1"
  },
  {
   "cell_type": "markdown",
   "id": "7ea20ab6-04a7-40a0-adec-443a0e5a42c3",
   "metadata": {
    "id": "7ea20ab6-04a7-40a0-adec-443a0e5a42c3"
   },
   "source": [
    "# Юнит 5. Анализ работодателей"
   ]
  },
  {
   "cell_type": "markdown",
   "id": "968aed80-74ef-4ffb-b5bf-c65b84e9caea",
   "metadata": {
    "id": "968aed80-74ef-4ffb-b5bf-c65b84e9caea"
   },
   "source": [
    "1. Напишите запрос, который позволит узнать, какие работодатели находятся на первом и пятом месте по количеству вакансий."
   ]
  },
  {
   "cell_type": "code",
   "id": "f2d62796-d400-4ec1-a675-88112739a50e",
   "metadata": {
    "id": "f2d62796-d400-4ec1-a675-88112739a50e",
    "ExecuteTime": {
     "end_time": "2025-01-19T16:39:40.707460Z",
     "start_time": "2025-01-19T16:39:40.703801Z"
    }
   },
   "source": [
    "# текст запроса\n",
    "query_5_1 = f'''select count(v.id) as kol_vacanisii,\n",
    "                        e.name as name\n",
    "                from vacancies as v\n",
    "                left join employers as e on e.id = v.employer_id\n",
    "                group by e.name\n",
    "                order by count(v.id) desc\n",
    "            '''"
   ],
   "outputs": [],
   "execution_count": 116
  },
  {
   "cell_type": "code",
   "source": [
    "# результат запроса\n",
    "df = pd.read_sql_query(query_5_1, connection)\n",
    "df"
   ],
   "metadata": {
    "id": "64tOMkAxqkQk",
    "ExecuteTime": {
     "end_time": "2025-01-19T16:39:41.196232Z",
     "start_time": "2025-01-19T16:39:40.902291Z"
    }
   },
   "id": "64tOMkAxqkQk",
   "outputs": [
    {
     "name": "stderr",
     "output_type": "stream",
     "text": [
      "C:\\Users\\mkondrashovm.DESKTOP-9A3HGE3\\AppData\\Local\\Temp\\ipykernel_13572\\2991075485.py:2: UserWarning: pandas only supports SQLAlchemy connectable (engine/connection) or database string URI or sqlite3 DBAPI2 connection. Other DBAPI2 objects are not tested. Please consider using SQLAlchemy.\n",
      "  df = pd.read_sql_query(query_5_1, connection)\n"
     ]
    },
    {
     "data": {
      "text/plain": [
       "       kol_vacanisii                    name\n",
       "0               1933                  Яндекс\n",
       "1                491              Ростелеком\n",
       "2                444                Тинькофф\n",
       "3                428                    СБЕР\n",
       "4                331           Газпром нефть\n",
       "...              ...                     ...\n",
       "14761              1            им. Тьюринга\n",
       "14762              1        LLC Novalab Tech\n",
       "14763              1   Компания Мир упаковки\n",
       "14764              1  Лифинцев Олег Иванович\n",
       "14765              1      ТрансЭнергоХолдинг\n",
       "\n",
       "[14766 rows x 2 columns]"
      ],
      "text/html": [
       "<div>\n",
       "<style scoped>\n",
       "    .dataframe tbody tr th:only-of-type {\n",
       "        vertical-align: middle;\n",
       "    }\n",
       "\n",
       "    .dataframe tbody tr th {\n",
       "        vertical-align: top;\n",
       "    }\n",
       "\n",
       "    .dataframe thead th {\n",
       "        text-align: right;\n",
       "    }\n",
       "</style>\n",
       "<table border=\"1\" class=\"dataframe\">\n",
       "  <thead>\n",
       "    <tr style=\"text-align: right;\">\n",
       "      <th></th>\n",
       "      <th>kol_vacanisii</th>\n",
       "      <th>name</th>\n",
       "    </tr>\n",
       "  </thead>\n",
       "  <tbody>\n",
       "    <tr>\n",
       "      <th>0</th>\n",
       "      <td>1933</td>\n",
       "      <td>Яндекс</td>\n",
       "    </tr>\n",
       "    <tr>\n",
       "      <th>1</th>\n",
       "      <td>491</td>\n",
       "      <td>Ростелеком</td>\n",
       "    </tr>\n",
       "    <tr>\n",
       "      <th>2</th>\n",
       "      <td>444</td>\n",
       "      <td>Тинькофф</td>\n",
       "    </tr>\n",
       "    <tr>\n",
       "      <th>3</th>\n",
       "      <td>428</td>\n",
       "      <td>СБЕР</td>\n",
       "    </tr>\n",
       "    <tr>\n",
       "      <th>4</th>\n",
       "      <td>331</td>\n",
       "      <td>Газпром нефть</td>\n",
       "    </tr>\n",
       "    <tr>\n",
       "      <th>...</th>\n",
       "      <td>...</td>\n",
       "      <td>...</td>\n",
       "    </tr>\n",
       "    <tr>\n",
       "      <th>14761</th>\n",
       "      <td>1</td>\n",
       "      <td>им. Тьюринга</td>\n",
       "    </tr>\n",
       "    <tr>\n",
       "      <th>14762</th>\n",
       "      <td>1</td>\n",
       "      <td>LLC Novalab Tech</td>\n",
       "    </tr>\n",
       "    <tr>\n",
       "      <th>14763</th>\n",
       "      <td>1</td>\n",
       "      <td>Компания Мир упаковки</td>\n",
       "    </tr>\n",
       "    <tr>\n",
       "      <th>14764</th>\n",
       "      <td>1</td>\n",
       "      <td>Лифинцев Олег Иванович</td>\n",
       "    </tr>\n",
       "    <tr>\n",
       "      <th>14765</th>\n",
       "      <td>1</td>\n",
       "      <td>ТрансЭнергоХолдинг</td>\n",
       "    </tr>\n",
       "  </tbody>\n",
       "</table>\n",
       "<p>14766 rows × 2 columns</p>\n",
       "</div>"
      ]
     },
     "execution_count": 117,
     "metadata": {},
     "output_type": "execute_result"
    }
   ],
   "execution_count": 117
  },
  {
   "cell_type": "markdown",
   "id": "68377cfc-b378-43dc-ab7d-1195abf2c515",
   "metadata": {
    "id": "68377cfc-b378-43dc-ab7d-1195abf2c515"
   },
   "source": [
    "2. Напишите запрос, который для каждого региона выведет количество работодателей и вакансий в нём.\n",
    "Среди регионов, в которых нет вакансий, найдите тот, в котором наибольшее количество работодателей.\n"
   ]
  },
  {
   "cell_type": "code",
   "id": "dd7df27a-e3e8-412e-a21a-5d389b71e891",
   "metadata": {
    "id": "dd7df27a-e3e8-412e-a21a-5d389b71e891",
    "ExecuteTime": {
     "end_time": "2025-01-19T16:39:41.242979Z",
     "start_time": "2025-01-19T16:39:41.238458Z"
    }
   },
   "source": [
    "# текст запроса\n",
    "query_5_2 = f'''select\n",
    "                        ar.name as name,\n",
    "                        count(v.id) as cnt_vacanisii,\n",
    "                        count(e.id) as cnt_employment\n",
    "                from areas as ar\n",
    "                left join vacancies as v on ar.id = v.area_id\n",
    "                left join employers as e on ar.id = e.area\n",
    "                group by ar.name\n",
    "                having count(v.id) = 0\n",
    "                order by cnt_employment desc\n",
    "            '''"
   ],
   "outputs": [],
   "execution_count": 118
  },
  {
   "cell_type": "code",
   "source": [
    "# результат запроса\n",
    "df = pd.read_sql_query(query_5_2, connection)\n",
    "df"
   ],
   "metadata": {
    "id": "x1ikWbydrbf6",
    "ExecuteTime": {
     "end_time": "2025-01-19T16:39:54.505031Z",
     "start_time": "2025-01-19T16:39:41.298247Z"
    }
   },
   "id": "x1ikWbydrbf6",
   "outputs": [
    {
     "name": "stderr",
     "output_type": "stream",
     "text": [
      "C:\\Users\\mkondrashovm.DESKTOP-9A3HGE3\\AppData\\Local\\Temp\\ipykernel_13572\\3808390961.py:2: UserWarning: pandas only supports SQLAlchemy connectable (engine/connection) or database string URI or sqlite3 DBAPI2 connection. Other DBAPI2 objects are not tested. Please consider using SQLAlchemy.\n",
      "  df = pd.read_sql_query(query_5_2, connection)\n"
     ]
    },
    {
     "data": {
      "text/plain": [
       "                             name  cnt_vacanisii  cnt_employment\n",
       "0                          Россия              0             410\n",
       "1                       Казахстан              0             207\n",
       "2              Московская область              0              75\n",
       "3              Краснодарский край              0              19\n",
       "4              Ростовская область              0              18\n",
       "..                            ...            ...             ...\n",
       "588                      Струнино              0               0\n",
       "589    Славгород (Алтайский край)              0               0\n",
       "590                     Сорочинск              0               0\n",
       "591  Ленинский (Тульская область)              0               0\n",
       "592                         Тавда              0               0\n",
       "\n",
       "[593 rows x 3 columns]"
      ],
      "text/html": [
       "<div>\n",
       "<style scoped>\n",
       "    .dataframe tbody tr th:only-of-type {\n",
       "        vertical-align: middle;\n",
       "    }\n",
       "\n",
       "    .dataframe tbody tr th {\n",
       "        vertical-align: top;\n",
       "    }\n",
       "\n",
       "    .dataframe thead th {\n",
       "        text-align: right;\n",
       "    }\n",
       "</style>\n",
       "<table border=\"1\" class=\"dataframe\">\n",
       "  <thead>\n",
       "    <tr style=\"text-align: right;\">\n",
       "      <th></th>\n",
       "      <th>name</th>\n",
       "      <th>cnt_vacanisii</th>\n",
       "      <th>cnt_employment</th>\n",
       "    </tr>\n",
       "  </thead>\n",
       "  <tbody>\n",
       "    <tr>\n",
       "      <th>0</th>\n",
       "      <td>Россия</td>\n",
       "      <td>0</td>\n",
       "      <td>410</td>\n",
       "    </tr>\n",
       "    <tr>\n",
       "      <th>1</th>\n",
       "      <td>Казахстан</td>\n",
       "      <td>0</td>\n",
       "      <td>207</td>\n",
       "    </tr>\n",
       "    <tr>\n",
       "      <th>2</th>\n",
       "      <td>Московская область</td>\n",
       "      <td>0</td>\n",
       "      <td>75</td>\n",
       "    </tr>\n",
       "    <tr>\n",
       "      <th>3</th>\n",
       "      <td>Краснодарский край</td>\n",
       "      <td>0</td>\n",
       "      <td>19</td>\n",
       "    </tr>\n",
       "    <tr>\n",
       "      <th>4</th>\n",
       "      <td>Ростовская область</td>\n",
       "      <td>0</td>\n",
       "      <td>18</td>\n",
       "    </tr>\n",
       "    <tr>\n",
       "      <th>...</th>\n",
       "      <td>...</td>\n",
       "      <td>...</td>\n",
       "      <td>...</td>\n",
       "    </tr>\n",
       "    <tr>\n",
       "      <th>588</th>\n",
       "      <td>Струнино</td>\n",
       "      <td>0</td>\n",
       "      <td>0</td>\n",
       "    </tr>\n",
       "    <tr>\n",
       "      <th>589</th>\n",
       "      <td>Славгород (Алтайский край)</td>\n",
       "      <td>0</td>\n",
       "      <td>0</td>\n",
       "    </tr>\n",
       "    <tr>\n",
       "      <th>590</th>\n",
       "      <td>Сорочинск</td>\n",
       "      <td>0</td>\n",
       "      <td>0</td>\n",
       "    </tr>\n",
       "    <tr>\n",
       "      <th>591</th>\n",
       "      <td>Ленинский (Тульская область)</td>\n",
       "      <td>0</td>\n",
       "      <td>0</td>\n",
       "    </tr>\n",
       "    <tr>\n",
       "      <th>592</th>\n",
       "      <td>Тавда</td>\n",
       "      <td>0</td>\n",
       "      <td>0</td>\n",
       "    </tr>\n",
       "  </tbody>\n",
       "</table>\n",
       "<p>593 rows × 3 columns</p>\n",
       "</div>"
      ]
     },
     "execution_count": 119,
     "metadata": {},
     "output_type": "execute_result"
    }
   ],
   "execution_count": 119
  },
  {
   "cell_type": "markdown",
   "id": "f2fe0acb-ab1a-4e15-9326-2560e22d73c1",
   "metadata": {
    "id": "f2fe0acb-ab1a-4e15-9326-2560e22d73c1"
   },
   "source": [
    "3. Для каждого работодателя посчитайте количество регионов, в которых он публикует свои вакансии. Отсортируйте результат по убыванию количества.\n"
   ]
  },
  {
   "cell_type": "code",
   "id": "6271f8ad-bd2e-4196-ae4a-5b39c4c1010e",
   "metadata": {
    "id": "6271f8ad-bd2e-4196-ae4a-5b39c4c1010e",
    "ExecuteTime": {
     "end_time": "2025-01-19T16:39:54.549822Z",
     "start_time": "2025-01-19T16:39:54.545450Z"
    }
   },
   "source": [
    "# текст запроса\n",
    "query_5_3 = f'''select\n",
    "                        e.name as name,\n",
    "                        count(distinct v.area_id) as cnt_areavacisii\n",
    "                from employers as e\n",
    "                left join vacancies as v on e.id = v.employer_id\n",
    "                group by e.name\n",
    "                order by cnt_areavacisii desc\n",
    "            '''"
   ],
   "outputs": [],
   "execution_count": 120
  },
  {
   "cell_type": "code",
   "source": [
    "# результат запроса\n",
    "df = pd.read_sql_query(query_5_3, connection)\n",
    "df"
   ],
   "metadata": {
    "id": "1EIvX3HasH4F",
    "ExecuteTime": {
     "end_time": "2025-01-19T16:39:55.033514Z",
     "start_time": "2025-01-19T16:39:54.604983Z"
    }
   },
   "id": "1EIvX3HasH4F",
   "outputs": [
    {
     "name": "stderr",
     "output_type": "stream",
     "text": [
      "C:\\Users\\mkondrashovm.DESKTOP-9A3HGE3\\AppData\\Local\\Temp\\ipykernel_13572\\1445531420.py:2: UserWarning: pandas only supports SQLAlchemy connectable (engine/connection) or database string URI or sqlite3 DBAPI2 connection. Other DBAPI2 objects are not tested. Please consider using SQLAlchemy.\n",
      "  df = pd.read_sql_query(query_5_3, connection)\n"
     ]
    },
    {
     "data": {
      "text/plain": [
       "                         name  cnt_areavacisii\n",
       "0                      Яндекс              181\n",
       "1                  Ростелеком              152\n",
       "2                  Спецремонт              116\n",
       "3      Поляков Денис Иванович               88\n",
       "4                   ООО ЕФИН                71\n",
       "...                       ...              ...\n",
       "23170                  СДЕЛКА                0\n",
       "23171            Alandr Group                0\n",
       "23172                     СДК                0\n",
       "23173      Lemon Land Lombard                0\n",
       "23174                  Махина                0\n",
       "\n",
       "[23175 rows x 2 columns]"
      ],
      "text/html": [
       "<div>\n",
       "<style scoped>\n",
       "    .dataframe tbody tr th:only-of-type {\n",
       "        vertical-align: middle;\n",
       "    }\n",
       "\n",
       "    .dataframe tbody tr th {\n",
       "        vertical-align: top;\n",
       "    }\n",
       "\n",
       "    .dataframe thead th {\n",
       "        text-align: right;\n",
       "    }\n",
       "</style>\n",
       "<table border=\"1\" class=\"dataframe\">\n",
       "  <thead>\n",
       "    <tr style=\"text-align: right;\">\n",
       "      <th></th>\n",
       "      <th>name</th>\n",
       "      <th>cnt_areavacisii</th>\n",
       "    </tr>\n",
       "  </thead>\n",
       "  <tbody>\n",
       "    <tr>\n",
       "      <th>0</th>\n",
       "      <td>Яндекс</td>\n",
       "      <td>181</td>\n",
       "    </tr>\n",
       "    <tr>\n",
       "      <th>1</th>\n",
       "      <td>Ростелеком</td>\n",
       "      <td>152</td>\n",
       "    </tr>\n",
       "    <tr>\n",
       "      <th>2</th>\n",
       "      <td>Спецремонт</td>\n",
       "      <td>116</td>\n",
       "    </tr>\n",
       "    <tr>\n",
       "      <th>3</th>\n",
       "      <td>Поляков Денис Иванович</td>\n",
       "      <td>88</td>\n",
       "    </tr>\n",
       "    <tr>\n",
       "      <th>4</th>\n",
       "      <td>ООО ЕФИН</td>\n",
       "      <td>71</td>\n",
       "    </tr>\n",
       "    <tr>\n",
       "      <th>...</th>\n",
       "      <td>...</td>\n",
       "      <td>...</td>\n",
       "    </tr>\n",
       "    <tr>\n",
       "      <th>23170</th>\n",
       "      <td>СДЕЛКА</td>\n",
       "      <td>0</td>\n",
       "    </tr>\n",
       "    <tr>\n",
       "      <th>23171</th>\n",
       "      <td>Alandr Group</td>\n",
       "      <td>0</td>\n",
       "    </tr>\n",
       "    <tr>\n",
       "      <th>23172</th>\n",
       "      <td>СДК</td>\n",
       "      <td>0</td>\n",
       "    </tr>\n",
       "    <tr>\n",
       "      <th>23173</th>\n",
       "      <td>Lemon Land Lombard</td>\n",
       "      <td>0</td>\n",
       "    </tr>\n",
       "    <tr>\n",
       "      <th>23174</th>\n",
       "      <td>Махина</td>\n",
       "      <td>0</td>\n",
       "    </tr>\n",
       "  </tbody>\n",
       "</table>\n",
       "<p>23175 rows × 2 columns</p>\n",
       "</div>"
      ]
     },
     "execution_count": 121,
     "metadata": {},
     "output_type": "execute_result"
    }
   ],
   "execution_count": 121
  },
  {
   "cell_type": "markdown",
   "id": "eab2206d-d95b-468b-8e5f-34381abf0ce7",
   "metadata": {
    "id": "eab2206d-d95b-468b-8e5f-34381abf0ce7"
   },
   "source": [
    "4. Напишите запрос для подсчёта количества работодателей, у которых не указана сфера деятельности. "
   ]
  },
  {
   "cell_type": "code",
   "id": "80defb23-bfb1-4a18-8be6-bf36aa7165d5",
   "metadata": {
    "id": "80defb23-bfb1-4a18-8be6-bf36aa7165d5",
    "ExecuteTime": {
     "end_time": "2025-01-19T16:39:55.078461Z",
     "start_time": "2025-01-19T16:39:55.074388Z"
    }
   },
   "source": [
    "# текст запроса\n",
    "query_5_4 = f'''select\n",
    "                count(*) as cnt\n",
    "                from employers as e\n",
    "                left join employers_industries as e_i on e.id = e_i.employer_id\n",
    "                where e_i.industry_id is null\n",
    "            '''"
   ],
   "outputs": [],
   "execution_count": 122
  },
  {
   "cell_type": "code",
   "source": [
    "# результат запроса\n",
    "df = pd.read_sql_query(query_5_4, connection)\n",
    "df"
   ],
   "metadata": {
    "id": "Dp_yCx6ysQSu",
    "ExecuteTime": {
     "end_time": "2025-01-19T16:39:55.194739Z",
     "start_time": "2025-01-19T16:39:55.134415Z"
    }
   },
   "id": "Dp_yCx6ysQSu",
   "outputs": [
    {
     "name": "stderr",
     "output_type": "stream",
     "text": [
      "C:\\Users\\mkondrashovm.DESKTOP-9A3HGE3\\AppData\\Local\\Temp\\ipykernel_13572\\273944648.py:2: UserWarning: pandas only supports SQLAlchemy connectable (engine/connection) or database string URI or sqlite3 DBAPI2 connection. Other DBAPI2 objects are not tested. Please consider using SQLAlchemy.\n",
      "  df = pd.read_sql_query(query_5_4, connection)\n"
     ]
    },
    {
     "data": {
      "text/plain": [
       "    cnt\n",
       "0  8419"
      ],
      "text/html": [
       "<div>\n",
       "<style scoped>\n",
       "    .dataframe tbody tr th:only-of-type {\n",
       "        vertical-align: middle;\n",
       "    }\n",
       "\n",
       "    .dataframe tbody tr th {\n",
       "        vertical-align: top;\n",
       "    }\n",
       "\n",
       "    .dataframe thead th {\n",
       "        text-align: right;\n",
       "    }\n",
       "</style>\n",
       "<table border=\"1\" class=\"dataframe\">\n",
       "  <thead>\n",
       "    <tr style=\"text-align: right;\">\n",
       "      <th></th>\n",
       "      <th>cnt</th>\n",
       "    </tr>\n",
       "  </thead>\n",
       "  <tbody>\n",
       "    <tr>\n",
       "      <th>0</th>\n",
       "      <td>8419</td>\n",
       "    </tr>\n",
       "  </tbody>\n",
       "</table>\n",
       "</div>"
      ]
     },
     "execution_count": 123,
     "metadata": {},
     "output_type": "execute_result"
    }
   ],
   "execution_count": 123
  },
  {
   "cell_type": "markdown",
   "id": "0112af31-f6b0-4e3b-82ab-71296e752e5e",
   "metadata": {
    "id": "0112af31-f6b0-4e3b-82ab-71296e752e5e"
   },
   "source": [
    "5. Напишите запрос, чтобы узнать название компании, находящейся на третьем месте в алфавитном списке (по названию) компаний, у которых указано четыре сферы деятельности. "
   ]
  },
  {
   "cell_type": "code",
   "id": "973b0cfc-a972-470a-8b4a-68744ef220c4",
   "metadata": {
    "id": "973b0cfc-a972-470a-8b4a-68744ef220c4",
    "ExecuteTime": {
     "end_time": "2025-01-19T16:39:55.302854Z",
     "start_time": "2025-01-19T16:39:55.297755Z"
    }
   },
   "source": [
    "# текст запроса\n",
    "query_5_5 = f'''select\n",
    "                e.name as name,\n",
    "                count(distinct e_i.industry_id) as cnt_industries\n",
    "                from employers as e\n",
    "                left join employers_industries as e_i on e.id = e_i.employer_id\n",
    "                group by e.name\n",
    "                having count(distinct e_i.industry_id) = 4\n",
    "            '''"
   ],
   "outputs": [],
   "execution_count": 124
  },
  {
   "cell_type": "code",
   "source": [
    "# результат запроса\n",
    "df = pd.read_sql_query(query_5_5, connection)\n",
    "df"
   ],
   "metadata": {
    "id": "xsPtpp8EsaED",
    "ExecuteTime": {
     "end_time": "2025-01-19T16:39:55.529944Z",
     "start_time": "2025-01-19T16:39:55.371367Z"
    }
   },
   "id": "xsPtpp8EsaED",
   "outputs": [
    {
     "name": "stderr",
     "output_type": "stream",
     "text": [
      "C:\\Users\\mkondrashovm.DESKTOP-9A3HGE3\\AppData\\Local\\Temp\\ipykernel_13572\\2766408522.py:2: UserWarning: pandas only supports SQLAlchemy connectable (engine/connection) or database string URI or sqlite3 DBAPI2 connection. Other DBAPI2 objects are not tested. Please consider using SQLAlchemy.\n",
      "  df = pd.read_sql_query(query_5_5, connection)\n"
     ]
    },
    {
     "data": {
      "text/plain": [
       "                 name  cnt_industries\n",
       "0        101 Интернет               4\n",
       "1            21vek.by               4\n",
       "2                2ГИС               4\n",
       "3                  2К               4\n",
       "4         4 пикселя +               4\n",
       "...               ...             ...\n",
       "1127            ЮРИОН               4\n",
       "1128  ЮТИП Технологии               4\n",
       "1129           ЯКласс               4\n",
       "1130            ЯрНео               4\n",
       "1131    Яшин&Партнёры               4\n",
       "\n",
       "[1132 rows x 2 columns]"
      ],
      "text/html": [
       "<div>\n",
       "<style scoped>\n",
       "    .dataframe tbody tr th:only-of-type {\n",
       "        vertical-align: middle;\n",
       "    }\n",
       "\n",
       "    .dataframe tbody tr th {\n",
       "        vertical-align: top;\n",
       "    }\n",
       "\n",
       "    .dataframe thead th {\n",
       "        text-align: right;\n",
       "    }\n",
       "</style>\n",
       "<table border=\"1\" class=\"dataframe\">\n",
       "  <thead>\n",
       "    <tr style=\"text-align: right;\">\n",
       "      <th></th>\n",
       "      <th>name</th>\n",
       "      <th>cnt_industries</th>\n",
       "    </tr>\n",
       "  </thead>\n",
       "  <tbody>\n",
       "    <tr>\n",
       "      <th>0</th>\n",
       "      <td>101 Интернет</td>\n",
       "      <td>4</td>\n",
       "    </tr>\n",
       "    <tr>\n",
       "      <th>1</th>\n",
       "      <td>21vek.by</td>\n",
       "      <td>4</td>\n",
       "    </tr>\n",
       "    <tr>\n",
       "      <th>2</th>\n",
       "      <td>2ГИС</td>\n",
       "      <td>4</td>\n",
       "    </tr>\n",
       "    <tr>\n",
       "      <th>3</th>\n",
       "      <td>2К</td>\n",
       "      <td>4</td>\n",
       "    </tr>\n",
       "    <tr>\n",
       "      <th>4</th>\n",
       "      <td>4 пикселя +</td>\n",
       "      <td>4</td>\n",
       "    </tr>\n",
       "    <tr>\n",
       "      <th>...</th>\n",
       "      <td>...</td>\n",
       "      <td>...</td>\n",
       "    </tr>\n",
       "    <tr>\n",
       "      <th>1127</th>\n",
       "      <td>ЮРИОН</td>\n",
       "      <td>4</td>\n",
       "    </tr>\n",
       "    <tr>\n",
       "      <th>1128</th>\n",
       "      <td>ЮТИП Технологии</td>\n",
       "      <td>4</td>\n",
       "    </tr>\n",
       "    <tr>\n",
       "      <th>1129</th>\n",
       "      <td>ЯКласс</td>\n",
       "      <td>4</td>\n",
       "    </tr>\n",
       "    <tr>\n",
       "      <th>1130</th>\n",
       "      <td>ЯрНео</td>\n",
       "      <td>4</td>\n",
       "    </tr>\n",
       "    <tr>\n",
       "      <th>1131</th>\n",
       "      <td>Яшин&amp;Партнёры</td>\n",
       "      <td>4</td>\n",
       "    </tr>\n",
       "  </tbody>\n",
       "</table>\n",
       "<p>1132 rows × 2 columns</p>\n",
       "</div>"
      ]
     },
     "execution_count": 125,
     "metadata": {},
     "output_type": "execute_result"
    }
   ],
   "execution_count": 125
  },
  {
   "cell_type": "markdown",
   "id": "3bfcfdaf-755d-4d2b-8ed8-326201dc07ab",
   "metadata": {
    "id": "3bfcfdaf-755d-4d2b-8ed8-326201dc07ab"
   },
   "source": [
    "6. С помощью запроса выясните, у какого количества работодателей в качестве сферы деятельности указана Разработка программного обеспечения.\n"
   ]
  },
  {
   "cell_type": "code",
   "id": "ad3f270f-2991-47eb-929b-e8f88a55b0d1",
   "metadata": {
    "id": "ad3f270f-2991-47eb-929b-e8f88a55b0d1",
    "ExecuteTime": {
     "end_time": "2025-01-19T16:39:55.583512Z",
     "start_time": "2025-01-19T16:39:55.578269Z"
    }
   },
   "source": [
    "# текст запроса\n",
    "query_5_6 = f'''select\n",
    "                i.name as name_ind,\n",
    "                count(*) as cnt\n",
    "                from employers as e\n",
    "                left join employers_industries as e_i on e.id = e_i.employer_id\n",
    "                left join industries as i on e_i.industry_id = i.id\n",
    "                where i.name = 'Разработка программного обеспечения'\n",
    "                group by i.name\n",
    "            '''"
   ],
   "outputs": [],
   "execution_count": 126
  },
  {
   "cell_type": "code",
   "source": [
    "# результат запроса\n",
    "df = pd.read_sql_query(query_5_6, connection)\n",
    "df"
   ],
   "metadata": {
    "id": "H72qxWM0shPR",
    "ExecuteTime": {
     "end_time": "2025-01-19T16:39:55.716518Z",
     "start_time": "2025-01-19T16:39:55.667707Z"
    }
   },
   "id": "H72qxWM0shPR",
   "outputs": [
    {
     "name": "stderr",
     "output_type": "stream",
     "text": [
      "C:\\Users\\mkondrashovm.DESKTOP-9A3HGE3\\AppData\\Local\\Temp\\ipykernel_13572\\3602736628.py:2: UserWarning: pandas only supports SQLAlchemy connectable (engine/connection) or database string URI or sqlite3 DBAPI2 connection. Other DBAPI2 objects are not tested. Please consider using SQLAlchemy.\n",
      "  df = pd.read_sql_query(query_5_6, connection)\n"
     ]
    },
    {
     "data": {
      "text/plain": [
       "                              name_ind   cnt\n",
       "0  Разработка программного обеспечения  3553"
      ],
      "text/html": [
       "<div>\n",
       "<style scoped>\n",
       "    .dataframe tbody tr th:only-of-type {\n",
       "        vertical-align: middle;\n",
       "    }\n",
       "\n",
       "    .dataframe tbody tr th {\n",
       "        vertical-align: top;\n",
       "    }\n",
       "\n",
       "    .dataframe thead th {\n",
       "        text-align: right;\n",
       "    }\n",
       "</style>\n",
       "<table border=\"1\" class=\"dataframe\">\n",
       "  <thead>\n",
       "    <tr style=\"text-align: right;\">\n",
       "      <th></th>\n",
       "      <th>name_ind</th>\n",
       "      <th>cnt</th>\n",
       "    </tr>\n",
       "  </thead>\n",
       "  <tbody>\n",
       "    <tr>\n",
       "      <th>0</th>\n",
       "      <td>Разработка программного обеспечения</td>\n",
       "      <td>3553</td>\n",
       "    </tr>\n",
       "  </tbody>\n",
       "</table>\n",
       "</div>"
      ]
     },
     "execution_count": 127,
     "metadata": {},
     "output_type": "execute_result"
    }
   ],
   "execution_count": 127
  },
  {
   "cell_type": "markdown",
   "id": "7b02bb86-0546-40fb-94a4-242f050a5c57",
   "metadata": {
    "id": "7b02bb86-0546-40fb-94a4-242f050a5c57"
   },
   "source": [
    "7. Для компании «Яндекс» выведите список регионов-миллионников, в которых представлены вакансии компании, вместе с количеством вакансий в этих регионах. Также добавьте строку Total с общим количеством вакансий компании. Результат отсортируйте по возрастанию количества.\n",
    "\n",
    "Список городов-милионников надо взять [отсюда](https://ru.wikipedia.org/wiki/%D0%93%D0%BE%D1%80%D0%BE%D0%B4%D0%B0-%D0%BC%D0%B8%D0%BB%D0%BB%D0%B8%D0%BE%D0%BD%D0%B5%D1%80%D1%8B_%D0%A0%D0%BE%D1%81%D1%81%D0%B8%D0%B8). \n",
    "\n",
    "Если возникнут трудности с этим задание посмотрите материалы модуля  PYTHON-17. Как получать данные из веб-источников и API."
   ]
  },
  {
   "metadata": {
    "ExecuteTime": {
     "end_time": "2025-01-19T16:47:26.529446Z",
     "start_time": "2025-01-19T16:47:25.675721Z"
    }
   },
   "cell_type": "code",
   "source": [
    "# код для получения списка городов-милионников\n",
    "import urllib.parse as req\n",
    "\n",
    "path_common = req.urlparse('https://ru.wikipedia.org/wiki/Города-миллионеры_России#Список_городов-миллионеров')\n",
    "url = path_common.scheme + '://' + req.quote(path_common.netloc) +  req.quote(path_common.path) + '#'+ req.quote(path_common.fragment)\n",
    "mln_cities = tuple(pd.read_html(url)[0]['Город'])\n",
    "print(mln_cities)"
   ],
   "id": "a6ff3c5345ce6eb7",
   "outputs": [
    {
     "name": "stdout",
     "output_type": "stream",
     "text": [
      "('Москва', 'Санкт-Петербург', 'Новосибирск', 'Екатеринбург', 'Казань', 'Красноярск', 'Нижний Новгород', 'Челябинск', 'Уфа', 'Самара', 'Ростов-на-Дону', 'Краснодар', 'Омск', 'Воронеж', 'Пермь', 'Волгоград')\n"
     ]
    }
   ],
   "execution_count": 153
  },
  {
   "cell_type": "code",
   "id": "5a0e32a4-e68a-4365-8a39-2fe24c542c36",
   "metadata": {
    "id": "5a0e32a4-e68a-4365-8a39-2fe24c542c36",
    "ExecuteTime": {
     "end_time": "2025-01-19T16:47:28.433226Z",
     "start_time": "2025-01-19T16:47:28.429257Z"
    }
   },
   "source": [
    "# текст запроса\n",
    "query_5_7 = f'''\n",
    "    select\n",
    "    a.name as region,\n",
    "    count(*) as vacancies_count\n",
    "    from vacancies as v\n",
    "    join employers as e on v.employer_id = e.id\n",
    "    join areas as a on v.area_id = a.id\n",
    "    group by v.area_id, a.name, e.id, e.name\n",
    "    having a.name in {tuple(mln_cities)} and e.name = 'Яндекс'\n",
    "\n",
    "    union all\n",
    "\n",
    "    select 'Total', sum(x.cnt)\n",
    "    from (\n",
    "        select count(*) as cnt\n",
    "        from\n",
    "        vacancies as v\n",
    "        join employers as e on v.employer_id = e.id\n",
    "        join areas as a on v.area_id = a.id\n",
    "        group by v.area_id, a.name, e.id, e.name\n",
    "        having a.name in {tuple(mln_cities)} and e.name = 'Яндекс'\n",
    "        ) as x\n",
    "    order by 2\n",
    "    '''"
   ],
   "outputs": [],
   "execution_count": 154
  },
  {
   "cell_type": "code",
   "source": [
    "# результат запроса\n",
    "df = pd.read_sql_query (query_5_7, connection)\n",
    "df"
   ],
   "metadata": {
    "id": "ttPhiO1rsvPq",
    "ExecuteTime": {
     "end_time": "2025-01-19T16:47:30.965085Z",
     "start_time": "2025-01-19T16:47:30.837145Z"
    }
   },
   "id": "ttPhiO1rsvPq",
   "outputs": [
    {
     "name": "stderr",
     "output_type": "stream",
     "text": [
      "C:\\Users\\mkondrashovm.DESKTOP-9A3HGE3\\AppData\\Local\\Temp\\ipykernel_13572\\1562245253.py:2: UserWarning: pandas only supports SQLAlchemy connectable (engine/connection) or database string URI or sqlite3 DBAPI2 connection. Other DBAPI2 objects are not tested. Please consider using SQLAlchemy.\n",
      "  df = pd.read_sql_query (query_5_7, connection)\n"
     ]
    },
    {
     "data": {
      "text/plain": [
       "             region  vacancies_count\n",
       "0              Омск             21.0\n",
       "1         Челябинск             22.0\n",
       "2        Красноярск             23.0\n",
       "3         Волгоград             24.0\n",
       "4    Ростов-на-Дону             25.0\n",
       "5            Казань             25.0\n",
       "6             Пермь             25.0\n",
       "7               Уфа             26.0\n",
       "8            Самара             26.0\n",
       "9         Краснодар             30.0\n",
       "10          Воронеж             32.0\n",
       "11      Новосибирск             35.0\n",
       "12  Нижний Новгород             36.0\n",
       "13     Екатеринбург             39.0\n",
       "14  Санкт-Петербург             42.0\n",
       "15           Москва             54.0\n",
       "16            Total            485.0"
      ],
      "text/html": [
       "<div>\n",
       "<style scoped>\n",
       "    .dataframe tbody tr th:only-of-type {\n",
       "        vertical-align: middle;\n",
       "    }\n",
       "\n",
       "    .dataframe tbody tr th {\n",
       "        vertical-align: top;\n",
       "    }\n",
       "\n",
       "    .dataframe thead th {\n",
       "        text-align: right;\n",
       "    }\n",
       "</style>\n",
       "<table border=\"1\" class=\"dataframe\">\n",
       "  <thead>\n",
       "    <tr style=\"text-align: right;\">\n",
       "      <th></th>\n",
       "      <th>region</th>\n",
       "      <th>vacancies_count</th>\n",
       "    </tr>\n",
       "  </thead>\n",
       "  <tbody>\n",
       "    <tr>\n",
       "      <th>0</th>\n",
       "      <td>Омск</td>\n",
       "      <td>21.0</td>\n",
       "    </tr>\n",
       "    <tr>\n",
       "      <th>1</th>\n",
       "      <td>Челябинск</td>\n",
       "      <td>22.0</td>\n",
       "    </tr>\n",
       "    <tr>\n",
       "      <th>2</th>\n",
       "      <td>Красноярск</td>\n",
       "      <td>23.0</td>\n",
       "    </tr>\n",
       "    <tr>\n",
       "      <th>3</th>\n",
       "      <td>Волгоград</td>\n",
       "      <td>24.0</td>\n",
       "    </tr>\n",
       "    <tr>\n",
       "      <th>4</th>\n",
       "      <td>Ростов-на-Дону</td>\n",
       "      <td>25.0</td>\n",
       "    </tr>\n",
       "    <tr>\n",
       "      <th>5</th>\n",
       "      <td>Казань</td>\n",
       "      <td>25.0</td>\n",
       "    </tr>\n",
       "    <tr>\n",
       "      <th>6</th>\n",
       "      <td>Пермь</td>\n",
       "      <td>25.0</td>\n",
       "    </tr>\n",
       "    <tr>\n",
       "      <th>7</th>\n",
       "      <td>Уфа</td>\n",
       "      <td>26.0</td>\n",
       "    </tr>\n",
       "    <tr>\n",
       "      <th>8</th>\n",
       "      <td>Самара</td>\n",
       "      <td>26.0</td>\n",
       "    </tr>\n",
       "    <tr>\n",
       "      <th>9</th>\n",
       "      <td>Краснодар</td>\n",
       "      <td>30.0</td>\n",
       "    </tr>\n",
       "    <tr>\n",
       "      <th>10</th>\n",
       "      <td>Воронеж</td>\n",
       "      <td>32.0</td>\n",
       "    </tr>\n",
       "    <tr>\n",
       "      <th>11</th>\n",
       "      <td>Новосибирск</td>\n",
       "      <td>35.0</td>\n",
       "    </tr>\n",
       "    <tr>\n",
       "      <th>12</th>\n",
       "      <td>Нижний Новгород</td>\n",
       "      <td>36.0</td>\n",
       "    </tr>\n",
       "    <tr>\n",
       "      <th>13</th>\n",
       "      <td>Екатеринбург</td>\n",
       "      <td>39.0</td>\n",
       "    </tr>\n",
       "    <tr>\n",
       "      <th>14</th>\n",
       "      <td>Санкт-Петербург</td>\n",
       "      <td>42.0</td>\n",
       "    </tr>\n",
       "    <tr>\n",
       "      <th>15</th>\n",
       "      <td>Москва</td>\n",
       "      <td>54.0</td>\n",
       "    </tr>\n",
       "    <tr>\n",
       "      <th>16</th>\n",
       "      <td>Total</td>\n",
       "      <td>485.0</td>\n",
       "    </tr>\n",
       "  </tbody>\n",
       "</table>\n",
       "</div>"
      ]
     },
     "execution_count": 155,
     "metadata": {},
     "output_type": "execute_result"
    }
   ],
   "execution_count": 155
  },
  {
   "cell_type": "markdown",
   "id": "04966e40-3bc3-4dc8-9ba2-e80580ce3abc",
   "metadata": {
    "id": "04966e40-3bc3-4dc8-9ba2-e80580ce3abc"
   },
   "source": [
    "***"
   ]
  },
  {
   "cell_type": "code",
   "source": [
    "# выводы по анализу работодателей"
   ],
   "metadata": {
    "id": "aGGyER-yt4SR",
    "ExecuteTime": {
     "end_time": "2025-01-19T16:39:58.049695Z",
     "start_time": "2025-01-19T16:39:58.045539Z"
    }
   },
   "id": "aGGyER-yt4SR",
   "outputs": [],
   "execution_count": 132
  },
  {
   "metadata": {},
   "cell_type": "markdown",
   "source": "Можно отметить, что большинство работодателей ищут работников сразу в нескольких регионах. Больше всего работников ищет \"Яндекс\" в 181 регионе 485 ваканский приходится на города миллионники.",
   "id": "c0f144fa12e390d0"
  },
  {
   "cell_type": "markdown",
   "id": "b1ef156a-efcb-49ce-bb23-90763e7f35b2",
   "metadata": {
    "tags": [],
    "id": "b1ef156a-efcb-49ce-bb23-90763e7f35b2"
   },
   "source": [
    "# Юнит 6. Предметный анализ"
   ]
  },
  {
   "cell_type": "markdown",
   "id": "b9cd50a0-992d-4988-8463-2b2b1c4629b4",
   "metadata": {
    "id": "b9cd50a0-992d-4988-8463-2b2b1c4629b4"
   },
   "source": [
    "1. Сколько вакансий имеет отношение к данным?\n",
    "\n",
    "Считаем, что вакансия имеет отношение к данным, если в её названии содержатся слова 'data' или 'данн'.\n",
    "\n",
    "*Подсказка: Обратите внимание, что названия вакансий могут быть написаны в любом регистре.* \n"
   ]
  },
  {
   "cell_type": "code",
   "id": "54ab0e50-c0f1-47cc-a54b-bc5c8bc363f9",
   "metadata": {
    "id": "54ab0e50-c0f1-47cc-a54b-bc5c8bc363f9",
    "ExecuteTime": {
     "end_time": "2025-01-26T09:17:41.794918Z",
     "start_time": "2025-01-26T09:17:41.788667Z"
    }
   },
   "source": [
    "# текст запроса\n",
    "query_6_1 = f'''select distinct count(v.id)\n",
    "                from vacancies as v\n",
    "                where lower(v.name) like '%data%' or lower(v.name) like '%данн%'\n",
    "            '''"
   ],
   "outputs": [],
   "execution_count": 8
  },
  {
   "cell_type": "code",
   "source": [
    "# результат запроса\n",
    "df = pd.read_sql_query(query_6_1, connection)\n",
    "df"
   ],
   "metadata": {
    "id": "9F1meAqsuUjd",
    "ExecuteTime": {
     "end_time": "2025-01-26T09:17:44.635766Z",
     "start_time": "2025-01-26T09:17:44.514288Z"
    }
   },
   "id": "9F1meAqsuUjd",
   "outputs": [
    {
     "name": "stderr",
     "output_type": "stream",
     "text": [
      "C:\\Users\\mkondrashovm.DESKTOP-9A3HGE3\\AppData\\Local\\Temp\\ipykernel_7732\\495031047.py:2: UserWarning: pandas only supports SQLAlchemy connectable (engine/connection) or database string URI or sqlite3 DBAPI2 connection. Other DBAPI2 objects are not tested. Please consider using SQLAlchemy.\n",
      "  df = pd.read_sql_query(query_6_1, connection)\n"
     ]
    },
    {
     "data": {
      "text/plain": [
       "   count\n",
       "0   1771"
      ],
      "text/html": [
       "<div>\n",
       "<style scoped>\n",
       "    .dataframe tbody tr th:only-of-type {\n",
       "        vertical-align: middle;\n",
       "    }\n",
       "\n",
       "    .dataframe tbody tr th {\n",
       "        vertical-align: top;\n",
       "    }\n",
       "\n",
       "    .dataframe thead th {\n",
       "        text-align: right;\n",
       "    }\n",
       "</style>\n",
       "<table border=\"1\" class=\"dataframe\">\n",
       "  <thead>\n",
       "    <tr style=\"text-align: right;\">\n",
       "      <th></th>\n",
       "      <th>count</th>\n",
       "    </tr>\n",
       "  </thead>\n",
       "  <tbody>\n",
       "    <tr>\n",
       "      <th>0</th>\n",
       "      <td>1771</td>\n",
       "    </tr>\n",
       "  </tbody>\n",
       "</table>\n",
       "</div>"
      ]
     },
     "execution_count": 9,
     "metadata": {},
     "output_type": "execute_result"
    }
   ],
   "execution_count": 9
  },
  {
   "cell_type": "markdown",
   "id": "4dea20cb-a36b-474a-a0b9-e08e8e3857a5",
   "metadata": {
    "id": "4dea20cb-a36b-474a-a0b9-e08e8e3857a5"
   },
   "source": [
    "2. Сколько есть подходящих вакансий для начинающего дата-сайентиста? \n",
    "Будем считать вакансиями для дата-сайентистов такие, в названии которых есть хотя бы одно из следующих сочетаний:\n",
    "* 'data scientist'\n",
    "* 'data science'\n",
    "* 'исследователь данных'\n",
    "* 'ML' (здесь не нужно брать вакансии по HTML)\n",
    "* 'machine learning'\n",
    "* 'машинн%обучен%'\n",
    "\n",
    "** В следующих заданиях мы продолжим работать с вакансиями по этому условию.*\n",
    "\n",
    "Считаем вакансиями для специалистов уровня Junior следующие:\n",
    "* в названии есть слово 'junior' *или*\n",
    "* требуемый опыт — Нет опыта *или*\n",
    "* тип трудоустройства — Стажировка.\n",
    " "
   ]
  },
  {
   "cell_type": "code",
   "id": "9c61b3c0-bb66-46c9-ae1e-81d3f5752b4a",
   "metadata": {
    "id": "9c61b3c0-bb66-46c9-ae1e-81d3f5752b4a",
    "ExecuteTime": {
     "end_time": "2025-01-26T09:46:10.712687Z",
     "start_time": "2025-01-26T09:46:10.707953Z"
    }
   },
   "source": [
    "# текст запроса\n",
    "query_6_2 = f'''select count(v.id)\n",
    "                from vacancies as v\n",
    "                where\n",
    "                (\n",
    "                lower(v.name) like '%data scientist%' or\n",
    "                lower(v.name) like '%data science%' or\n",
    "                lower(v.name) like '%исследователь данных%' or\n",
    "                (lower(v.name) like '%ml%' and lower(v.name) not like '%html%') or\n",
    "                lower(v.name) like '%machine learning%' or\n",
    "                lower(v.name) like '%машинн%обучен%'\n",
    "                )\n",
    "                and\n",
    "                (\n",
    "                lower(v.name) like '%junior%' or\n",
    "                v.experience = 'Нет опыта' or\n",
    "                v.employment = 'Стажировка'\n",
    "                )\n",
    "\n",
    "            '''"
   ],
   "outputs": [],
   "execution_count": 24
  },
  {
   "cell_type": "code",
   "source": [
    "# результат запроса\n",
    "df = pd.read_sql_query(query_6_2, connection)\n",
    "df"
   ],
   "metadata": {
    "id": "ZNM-LLYuu1dj",
    "ExecuteTime": {
     "end_time": "2025-01-26T09:46:12.994556Z",
     "start_time": "2025-01-26T09:46:12.884169Z"
    }
   },
   "id": "ZNM-LLYuu1dj",
   "outputs": [
    {
     "name": "stderr",
     "output_type": "stream",
     "text": [
      "C:\\Users\\mkondrashovm.DESKTOP-9A3HGE3\\AppData\\Local\\Temp\\ipykernel_7732\\2943149581.py:2: UserWarning: pandas only supports SQLAlchemy connectable (engine/connection) or database string URI or sqlite3 DBAPI2 connection. Other DBAPI2 objects are not tested. Please consider using SQLAlchemy.\n",
      "  df = pd.read_sql_query(query_6_2, connection)\n"
     ]
    },
    {
     "data": {
      "text/plain": [
       "   count\n",
       "0     51"
      ],
      "text/html": [
       "<div>\n",
       "<style scoped>\n",
       "    .dataframe tbody tr th:only-of-type {\n",
       "        vertical-align: middle;\n",
       "    }\n",
       "\n",
       "    .dataframe tbody tr th {\n",
       "        vertical-align: top;\n",
       "    }\n",
       "\n",
       "    .dataframe thead th {\n",
       "        text-align: right;\n",
       "    }\n",
       "</style>\n",
       "<table border=\"1\" class=\"dataframe\">\n",
       "  <thead>\n",
       "    <tr style=\"text-align: right;\">\n",
       "      <th></th>\n",
       "      <th>count</th>\n",
       "    </tr>\n",
       "  </thead>\n",
       "  <tbody>\n",
       "    <tr>\n",
       "      <th>0</th>\n",
       "      <td>51</td>\n",
       "    </tr>\n",
       "  </tbody>\n",
       "</table>\n",
       "</div>"
      ]
     },
     "execution_count": 25,
     "metadata": {},
     "output_type": "execute_result"
    }
   ],
   "execution_count": 25
  },
  {
   "cell_type": "markdown",
   "id": "eedceb80-c5ca-480e-b27a-278dfb8b4438",
   "metadata": {
    "id": "eedceb80-c5ca-480e-b27a-278dfb8b4438"
   },
   "source": [
    "3. Сколько есть вакансий для DS, в которых в качестве ключевого навыка указан SQL или postgres?\n",
    "\n",
    "** Критерии для отнесения вакансии к DS указаны в предыдущем задании.*"
   ]
  },
  {
   "cell_type": "code",
   "id": "69621713-0cc5-4f1b-a1d7-bb144fa6148c",
   "metadata": {
    "id": "69621713-0cc5-4f1b-a1d7-bb144fa6148c",
    "ExecuteTime": {
     "end_time": "2025-01-26T09:49:29.743636Z",
     "start_time": "2025-01-26T09:49:29.737787Z"
    }
   },
   "source": [
    "# текст запроса\n",
    "query_6_3 = f'''select count(v.id)\n",
    "                from vacancies as v\n",
    "                where\n",
    "                (\n",
    "                lower(v.name) like '%data scientist%' or\n",
    "                lower(v.name) like '%data science%' or\n",
    "                lower(v.name) like '%исследователь данных%' or\n",
    "                (lower(v.name) like '%ml%' and lower(v.name) not like '%html%') or\n",
    "                lower(v.name) like '%machine learning%' or\n",
    "                lower(v.name) like '%машинн%обучен%'\n",
    "                )\n",
    "                and\n",
    "                (\n",
    "                v.key_skills like '%SQL%' or\n",
    "                v.key_skills like '%postgres%'\n",
    "                )\n",
    "            '''"
   ],
   "outputs": [],
   "execution_count": 28
  },
  {
   "cell_type": "code",
   "source": [
    "# результат запроса\n",
    "df = pd.read_sql_query(query_6_3, connection)\n",
    "df"
   ],
   "metadata": {
    "id": "alA8WEAAvGdf",
    "ExecuteTime": {
     "end_time": "2025-01-26T09:49:31.138919Z",
     "start_time": "2025-01-26T09:49:31.031846Z"
    }
   },
   "id": "alA8WEAAvGdf",
   "outputs": [
    {
     "name": "stderr",
     "output_type": "stream",
     "text": [
      "C:\\Users\\mkondrashovm.DESKTOP-9A3HGE3\\AppData\\Local\\Temp\\ipykernel_7732\\104054043.py:2: UserWarning: pandas only supports SQLAlchemy connectable (engine/connection) or database string URI or sqlite3 DBAPI2 connection. Other DBAPI2 objects are not tested. Please consider using SQLAlchemy.\n",
      "  df = pd.read_sql_query(query_6_3, connection)\n"
     ]
    },
    {
     "data": {
      "text/plain": [
       "   count\n",
       "0    229"
      ],
      "text/html": [
       "<div>\n",
       "<style scoped>\n",
       "    .dataframe tbody tr th:only-of-type {\n",
       "        vertical-align: middle;\n",
       "    }\n",
       "\n",
       "    .dataframe tbody tr th {\n",
       "        vertical-align: top;\n",
       "    }\n",
       "\n",
       "    .dataframe thead th {\n",
       "        text-align: right;\n",
       "    }\n",
       "</style>\n",
       "<table border=\"1\" class=\"dataframe\">\n",
       "  <thead>\n",
       "    <tr style=\"text-align: right;\">\n",
       "      <th></th>\n",
       "      <th>count</th>\n",
       "    </tr>\n",
       "  </thead>\n",
       "  <tbody>\n",
       "    <tr>\n",
       "      <th>0</th>\n",
       "      <td>229</td>\n",
       "    </tr>\n",
       "  </tbody>\n",
       "</table>\n",
       "</div>"
      ]
     },
     "execution_count": 29,
     "metadata": {},
     "output_type": "execute_result"
    }
   ],
   "execution_count": 29
  },
  {
   "cell_type": "markdown",
   "id": "1be1e9c6-37cf-4a5f-bfeb-04cab799dc80",
   "metadata": {
    "id": "1be1e9c6-37cf-4a5f-bfeb-04cab799dc80"
   },
   "source": [
    "4. Проверьте, насколько популярен Python в требованиях работодателей к DS.Для этого вычислите количество вакансий, в которых в качестве ключевого навыка указан Python.\n",
    "\n",
    "** Это можно сделать помощью запроса, аналогичного предыдущему.*"
   ]
  },
  {
   "cell_type": "code",
   "id": "0036a355-9ccf-4564-8b01-73d8194297e7",
   "metadata": {
    "id": "0036a355-9ccf-4564-8b01-73d8194297e7",
    "ExecuteTime": {
     "end_time": "2025-01-26T09:51:16.426734Z",
     "start_time": "2025-01-26T09:51:16.421288Z"
    }
   },
   "source": [
    "# текст запроса\n",
    "query_6_4 = f'''select count(v.id)\n",
    "                from vacancies as v\n",
    "                where\n",
    "                (\n",
    "                lower(v.name) like '%data scientist%' or\n",
    "                lower(v.name) like '%data science%' or\n",
    "                lower(v.name) like '%исследователь данных%' or\n",
    "                (lower(v.name) like '%ml%' and lower(v.name) not like '%html%') or\n",
    "                lower(v.name) like '%machine learning%' or\n",
    "                lower(v.name) like '%машинн%обучен%'\n",
    "                )\n",
    "                and\n",
    "                v.key_skills like '%Python%'\n",
    "            '''\n"
   ],
   "outputs": [],
   "execution_count": 30
  },
  {
   "cell_type": "code",
   "source": [
    "# результат запроса\n",
    "df = pd.read_sql_query(query_6_4, connection)\n",
    "df"
   ],
   "metadata": {
    "id": "1i-5WyucvQ6v",
    "ExecuteTime": {
     "end_time": "2025-01-26T09:51:17.920435Z",
     "start_time": "2025-01-26T09:51:17.854008Z"
    }
   },
   "id": "1i-5WyucvQ6v",
   "outputs": [
    {
     "name": "stderr",
     "output_type": "stream",
     "text": [
      "C:\\Users\\mkondrashovm.DESKTOP-9A3HGE3\\AppData\\Local\\Temp\\ipykernel_7732\\1927997822.py:2: UserWarning: pandas only supports SQLAlchemy connectable (engine/connection) or database string URI or sqlite3 DBAPI2 connection. Other DBAPI2 objects are not tested. Please consider using SQLAlchemy.\n",
      "  df = pd.read_sql_query(query_6_4, connection)\n"
     ]
    },
    {
     "data": {
      "text/plain": [
       "   count\n",
       "0    357"
      ],
      "text/html": [
       "<div>\n",
       "<style scoped>\n",
       "    .dataframe tbody tr th:only-of-type {\n",
       "        vertical-align: middle;\n",
       "    }\n",
       "\n",
       "    .dataframe tbody tr th {\n",
       "        vertical-align: top;\n",
       "    }\n",
       "\n",
       "    .dataframe thead th {\n",
       "        text-align: right;\n",
       "    }\n",
       "</style>\n",
       "<table border=\"1\" class=\"dataframe\">\n",
       "  <thead>\n",
       "    <tr style=\"text-align: right;\">\n",
       "      <th></th>\n",
       "      <th>count</th>\n",
       "    </tr>\n",
       "  </thead>\n",
       "  <tbody>\n",
       "    <tr>\n",
       "      <th>0</th>\n",
       "      <td>357</td>\n",
       "    </tr>\n",
       "  </tbody>\n",
       "</table>\n",
       "</div>"
      ]
     },
     "execution_count": 31,
     "metadata": {},
     "output_type": "execute_result"
    }
   ],
   "execution_count": 31
  },
  {
   "cell_type": "markdown",
   "id": "ec3c8db7-fa21-4a41-a994-1af63742a642",
   "metadata": {
    "id": "ec3c8db7-fa21-4a41-a994-1af63742a642"
   },
   "source": [
    "5. Сколько ключевых навыков в среднем указывают в вакансиях для DS?\n",
    "Ответ округлите до двух знаков после точки-разделителя."
   ]
  },
  {
   "cell_type": "code",
   "id": "949132bc-d5b6-4611-8218-0b9a504d74f4",
   "metadata": {
    "id": "949132bc-d5b6-4611-8218-0b9a504d74f4",
    "ExecuteTime": {
     "end_time": "2025-01-26T10:14:52.085849Z",
     "start_time": "2025-01-26T10:14:52.080760Z"
    }
   },
   "source": [
    "# текст запроса\n",
    "query_6_5 = f'''select\n",
    "                round(avg(length(v.key_skills)-length(replace(v.key_skills, CHR(9), ''))+1), 2) as avg_skill\n",
    "                from vacancies as v\n",
    "                where\n",
    "                (\n",
    "                v.name ilike '%data scientist%'or\n",
    "                v.name ilike '%data science%'or\n",
    "                v.name ilike '%исследователь данных%'or\n",
    "                (v.name like '%ML%' and v.name not ilike '%HTML%') or\n",
    "                v.name ilike '%machine learning%' or v.name ilike '%машинн%обучен%'\n",
    "                )\n",
    "                '''"
   ],
   "outputs": [],
   "execution_count": 50
  },
  {
   "cell_type": "code",
   "source": [
    "# результат запроса\n",
    "df = pd.read_sql_query(query_6_5, connection)\n",
    "df"
   ],
   "metadata": {
    "id": "a3V24Tvmviqk",
    "ExecuteTime": {
     "end_time": "2025-01-26T10:14:53.670092Z",
     "start_time": "2025-01-26T10:14:53.359402Z"
    }
   },
   "id": "a3V24Tvmviqk",
   "outputs": [
    {
     "name": "stderr",
     "output_type": "stream",
     "text": [
      "C:\\Users\\mkondrashovm.DESKTOP-9A3HGE3\\AppData\\Local\\Temp\\ipykernel_7732\\4273863405.py:2: UserWarning: pandas only supports SQLAlchemy connectable (engine/connection) or database string URI or sqlite3 DBAPI2 connection. Other DBAPI2 objects are not tested. Please consider using SQLAlchemy.\n",
      "  df = pd.read_sql_query(query_6_5, connection)\n"
     ]
    },
    {
     "data": {
      "text/plain": [
       "   avg_skill\n",
       "0       6.41"
      ],
      "text/html": [
       "<div>\n",
       "<style scoped>\n",
       "    .dataframe tbody tr th:only-of-type {\n",
       "        vertical-align: middle;\n",
       "    }\n",
       "\n",
       "    .dataframe tbody tr th {\n",
       "        vertical-align: top;\n",
       "    }\n",
       "\n",
       "    .dataframe thead th {\n",
       "        text-align: right;\n",
       "    }\n",
       "</style>\n",
       "<table border=\"1\" class=\"dataframe\">\n",
       "  <thead>\n",
       "    <tr style=\"text-align: right;\">\n",
       "      <th></th>\n",
       "      <th>avg_skill</th>\n",
       "    </tr>\n",
       "  </thead>\n",
       "  <tbody>\n",
       "    <tr>\n",
       "      <th>0</th>\n",
       "      <td>6.41</td>\n",
       "    </tr>\n",
       "  </tbody>\n",
       "</table>\n",
       "</div>"
      ]
     },
     "execution_count": 51,
     "metadata": {},
     "output_type": "execute_result"
    }
   ],
   "execution_count": 51
  },
  {
   "cell_type": "markdown",
   "id": "1041c17a-ca8f-4543-a0ca-32778914fb00",
   "metadata": {
    "id": "1041c17a-ca8f-4543-a0ca-32778914fb00"
   },
   "source": [
    "6. Напишите запрос, позволяющий вычислить, какую зарплату для DS в **среднем** указывают для каждого типа требуемого опыта (уникальное значение из поля *experience*). \n",
    "\n",
    "При решении задачи примите во внимание следующее:\n",
    "1. Рассматриваем только вакансии, у которых заполнено хотя бы одно из двух полей с зарплатой.\n",
    "2. Если заполнены оба поля с зарплатой, то считаем зарплату по каждой вакансии как сумму двух полей, делённую на 2. Если заполнено только одно из полей, то его и считаем зарплатой по вакансии.\n",
    "3. Если в расчётах участвует null, в результате он тоже даст null (посмотрите, что возвращает запрос select 1 + null). Чтобы избежать этой ситуацию, мы воспользуемся функцией [coalesce](https://postgrespro.ru/docs/postgresql/9.5/functions-conditional#functions-coalesce-nvl-ifnull), которая заменит null на значение, которое мы передадим. Например, посмотрите, что возвращает запрос `select 1 + coalesce(null, 0)`\n",
    "\n",
    "Выясните, на какую зарплату в среднем может рассчитывать дата-сайентист с опытом работы от 3 до 6 лет. Результат округлите до целого числа. "
   ]
  },
  {
   "cell_type": "code",
   "id": "6a743d39-5204-48d3-8271-b9f88e68d40e",
   "metadata": {
    "id": "6a743d39-5204-48d3-8271-b9f88e68d40e",
    "ExecuteTime": {
     "end_time": "2025-01-26T10:19:58.430226Z",
     "start_time": "2025-01-26T10:19:58.424843Z"
    }
   },
   "source": [
    "# текст запроса\n",
    "query_6_6 = f'''select\n",
    "                experience as \"опыт работы\",\n",
    "                round(avg(coalesce((salary_from + salary_to) / 2, salary_from, salary_to)), 0) as \"средний размер зарплаты\"\n",
    "                from vacancies as v\n",
    "                where\n",
    "                (\n",
    "                v.name ilike '%data scientist%'or\n",
    "                v.name ilike '%data science%'or\n",
    "                v.name ilike '%исследователь данных%'or\n",
    "                (v.name like '%ML%' and v.name not ilike '%HTML%') or\n",
    "                v.name ilike '%machine learning%' or v.name ilike '%машинн%обучен%'\n",
    "                )\n",
    "                and experience = 'От 3 до 6 лет'\n",
    "                and (salary_from is not null or salary_to is not null)\n",
    "                group by experience\n",
    "            '''"
   ],
   "outputs": [],
   "execution_count": 52
  },
  {
   "cell_type": "code",
   "source": [
    "# результат запроса\n",
    "df = pd.read_sql_query (query_6_6, connection)\n",
    "df"
   ],
   "metadata": {
    "id": "aRIJ0mZEwU1_",
    "ExecuteTime": {
     "end_time": "2025-01-26T10:19:59.586672Z",
     "start_time": "2025-01-26T10:19:59.510302Z"
    }
   },
   "id": "aRIJ0mZEwU1_",
   "outputs": [
    {
     "name": "stderr",
     "output_type": "stream",
     "text": [
      "C:\\Users\\mkondrashovm.DESKTOP-9A3HGE3\\AppData\\Local\\Temp\\ipykernel_7732\\1432455486.py:2: UserWarning: pandas only supports SQLAlchemy connectable (engine/connection) or database string URI or sqlite3 DBAPI2 connection. Other DBAPI2 objects are not tested. Please consider using SQLAlchemy.\n",
      "  df = pd.read_sql_query (query_6_6, connection)\n"
     ]
    },
    {
     "data": {
      "text/plain": [
       "     опыт работы  средний размер зарплаты\n",
       "0  От 3 до 6 лет                 243115.0"
      ],
      "text/html": [
       "<div>\n",
       "<style scoped>\n",
       "    .dataframe tbody tr th:only-of-type {\n",
       "        vertical-align: middle;\n",
       "    }\n",
       "\n",
       "    .dataframe tbody tr th {\n",
       "        vertical-align: top;\n",
       "    }\n",
       "\n",
       "    .dataframe thead th {\n",
       "        text-align: right;\n",
       "    }\n",
       "</style>\n",
       "<table border=\"1\" class=\"dataframe\">\n",
       "  <thead>\n",
       "    <tr style=\"text-align: right;\">\n",
       "      <th></th>\n",
       "      <th>опыт работы</th>\n",
       "      <th>средний размер зарплаты</th>\n",
       "    </tr>\n",
       "  </thead>\n",
       "  <tbody>\n",
       "    <tr>\n",
       "      <th>0</th>\n",
       "      <td>От 3 до 6 лет</td>\n",
       "      <td>243115.0</td>\n",
       "    </tr>\n",
       "  </tbody>\n",
       "</table>\n",
       "</div>"
      ]
     },
     "execution_count": 53,
     "metadata": {},
     "output_type": "execute_result"
    }
   ],
   "execution_count": 53
  },
  {
   "cell_type": "markdown",
   "id": "6a7892b4-4113-4746-adce-18aa2844f18e",
   "metadata": {
    "id": "6a7892b4-4113-4746-adce-18aa2844f18e"
   },
   "source": [
    "***"
   ]
  },
  {
   "cell_type": "code",
   "source": [
    "# выводы по предметному анализу"
   ],
   "metadata": {
    "id": "UjLWUptVwY1o",
    "ExecuteTime": {
     "end_time": "2025-01-19T16:39:59.184156Z",
     "start_time": "2025-01-19T16:39:59.180067Z"
    }
   },
   "id": "UjLWUptVwY1o",
   "outputs": [],
   "execution_count": 145
  },
  {
   "cell_type": "markdown",
   "source": [
    "# Общий вывод по проекту"
   ],
   "metadata": {
    "id": "c0ED6fh7wiBT"
   },
   "id": "c0ED6fh7wiBT"
  },
  {
   "metadata": {},
   "cell_type": "markdown",
   "source": [
    "- Анализ данных показал, что с помощью этой базы данных можно получать как количественные, так и качественные характеристики различных типов данных, включая информацию о вакансиях, работодателях, регионах и отраслях. Связь между данными в разных таблицах через идентификаторы (ID) позволяет выявлять различные взаимосвязи между ними. На примере вакансий и работодателей можно определить характерные закономерности и тенденции, а также, используя данные о вакансиях для дата-сайентистов, продемонстрировать возможность выделения специфических и узкоспециализированных выборок.\n",
    "\n",
    " - Рынок труда в крупных городах, таких как Москва, Санкт-Петербургг, демонстрирует наибольшее количество вакансий. Это связано с концентрацией IT-компаний и стартапов, а также с наличием крупных заказчиков, которые требуют специалистов для работы с большими данными и аналитикой. Меньшие города и регионы, хотя и имеют вакансии, но их количество гораздо ниже, что может свидетельствовать о менее развитой инфраструктуре и меньшем спросе на высококвалифицированных специалистов в таких областях.\n",
    "\n",
    "- Можно также провести анализ популярности различных ключевых навыков в вакансиях, например, какие языки программирования или технологии востребованы на данный момент в разных областях.\n",
    "\n",
    "- Интересным будет также исследование перехода вакансий в определённые категории (например, с Junior на Middle или Senior) и как это связано с развитием компании или отрасли.\n"
   ],
   "id": "2ca121213ceb2b34"
  }
 ],
 "metadata": {
  "kernelspec": {
   "display_name": "Python 3 (ipykernel)",
   "language": "python",
   "name": "python3"
  },
  "language_info": {
   "codemirror_mode": {
    "name": "ipython",
    "version": 3
   },
   "file_extension": ".py",
   "mimetype": "text/x-python",
   "name": "python",
   "nbconvert_exporter": "python",
   "pygments_lexer": "ipython3",
   "version": "3.9.7"
  },
  "colab": {
   "provenance": [],
   "collapsed_sections": [
    "8d62a9f3-f64e-4fe7-bdac-c4dffa16155e"
   ]
  }
 },
 "nbformat": 4,
 "nbformat_minor": 5
}
